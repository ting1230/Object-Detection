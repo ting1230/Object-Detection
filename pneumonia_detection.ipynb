{
  "nbformat": 4,
  "nbformat_minor": 0,
  "metadata": {
    "colab": {
      "name": "final project",
      "provenance": [],
      "collapsed_sections": []
    },
    "kernelspec": {
      "display_name": "Python 3",
      "name": "python3"
    },
    "language_info": {
      "name": "python"
    },
    "widgets": {
      "application/vnd.jupyter.widget-state+json": {
        "ff9c20c7f2184dc093bf4b60bc37bb19": {
          "model_module": "@jupyter-widgets/controls",
          "model_name": "HBoxModel",
          "state": {
            "_view_name": "HBoxView",
            "_dom_classes": [],
            "_model_name": "HBoxModel",
            "_view_module": "@jupyter-widgets/controls",
            "_model_module_version": "1.5.0",
            "_view_count": null,
            "_view_module_version": "1.5.0",
            "box_style": "",
            "layout": "IPY_MODEL_c9cfa12e8f874a43ac6bf7b228c6b194",
            "_model_module": "@jupyter-widgets/controls",
            "children": [
              "IPY_MODEL_3a86d6ff561342a9a5fb6447c7e21dd3",
              "IPY_MODEL_1c4546ae9b3545a3998d22534f57ef37"
            ]
          }
        },
        "c9cfa12e8f874a43ac6bf7b228c6b194": {
          "model_module": "@jupyter-widgets/base",
          "model_name": "LayoutModel",
          "state": {
            "_view_name": "LayoutView",
            "grid_template_rows": null,
            "right": null,
            "justify_content": null,
            "_view_module": "@jupyter-widgets/base",
            "overflow": null,
            "_model_module_version": "1.2.0",
            "_view_count": null,
            "flex_flow": null,
            "width": null,
            "min_width": null,
            "border": null,
            "align_items": null,
            "bottom": null,
            "_model_module": "@jupyter-widgets/base",
            "top": null,
            "grid_column": null,
            "overflow_y": null,
            "overflow_x": null,
            "grid_auto_flow": null,
            "grid_area": null,
            "grid_template_columns": null,
            "flex": null,
            "_model_name": "LayoutModel",
            "justify_items": null,
            "grid_row": null,
            "max_height": null,
            "align_content": null,
            "visibility": null,
            "align_self": null,
            "height": null,
            "min_height": null,
            "padding": null,
            "grid_auto_rows": null,
            "grid_gap": null,
            "max_width": null,
            "order": null,
            "_view_module_version": "1.2.0",
            "grid_template_areas": null,
            "object_position": null,
            "object_fit": null,
            "grid_auto_columns": null,
            "margin": null,
            "display": null,
            "left": null
          }
        },
        "3a86d6ff561342a9a5fb6447c7e21dd3": {
          "model_module": "@jupyter-widgets/controls",
          "model_name": "FloatProgressModel",
          "state": {
            "_view_name": "ProgressView",
            "style": "IPY_MODEL_b04d48dccb4244289e4f8a5e8e0d5273",
            "_dom_classes": [],
            "description": "100%",
            "_model_name": "FloatProgressModel",
            "bar_style": "success",
            "max": 167502836,
            "_view_module": "@jupyter-widgets/controls",
            "_model_module_version": "1.5.0",
            "value": 167502836,
            "_view_count": null,
            "_view_module_version": "1.5.0",
            "orientation": "horizontal",
            "min": 0,
            "description_tooltip": null,
            "_model_module": "@jupyter-widgets/controls",
            "layout": "IPY_MODEL_8d39d78924fd4c2cbc2c811b92b9d957"
          }
        },
        "1c4546ae9b3545a3998d22534f57ef37": {
          "model_module": "@jupyter-widgets/controls",
          "model_name": "HTMLModel",
          "state": {
            "_view_name": "HTMLView",
            "style": "IPY_MODEL_8da5111c0dec44cfbdf10b6c7a6617e9",
            "_dom_classes": [],
            "description": "",
            "_model_name": "HTMLModel",
            "placeholder": "​",
            "_view_module": "@jupyter-widgets/controls",
            "_model_module_version": "1.5.0",
            "value": " 160M/160M [00:31&lt;00:00, 5.40MB/s]",
            "_view_count": null,
            "_view_module_version": "1.5.0",
            "description_tooltip": null,
            "_model_module": "@jupyter-widgets/controls",
            "layout": "IPY_MODEL_f8302d55b1f546d1b0390e6253d4e7f3"
          }
        },
        "b04d48dccb4244289e4f8a5e8e0d5273": {
          "model_module": "@jupyter-widgets/controls",
          "model_name": "ProgressStyleModel",
          "state": {
            "_view_name": "StyleView",
            "_model_name": "ProgressStyleModel",
            "description_width": "initial",
            "_view_module": "@jupyter-widgets/base",
            "_model_module_version": "1.5.0",
            "_view_count": null,
            "_view_module_version": "1.2.0",
            "bar_color": null,
            "_model_module": "@jupyter-widgets/controls"
          }
        },
        "8d39d78924fd4c2cbc2c811b92b9d957": {
          "model_module": "@jupyter-widgets/base",
          "model_name": "LayoutModel",
          "state": {
            "_view_name": "LayoutView",
            "grid_template_rows": null,
            "right": null,
            "justify_content": null,
            "_view_module": "@jupyter-widgets/base",
            "overflow": null,
            "_model_module_version": "1.2.0",
            "_view_count": null,
            "flex_flow": null,
            "width": null,
            "min_width": null,
            "border": null,
            "align_items": null,
            "bottom": null,
            "_model_module": "@jupyter-widgets/base",
            "top": null,
            "grid_column": null,
            "overflow_y": null,
            "overflow_x": null,
            "grid_auto_flow": null,
            "grid_area": null,
            "grid_template_columns": null,
            "flex": null,
            "_model_name": "LayoutModel",
            "justify_items": null,
            "grid_row": null,
            "max_height": null,
            "align_content": null,
            "visibility": null,
            "align_self": null,
            "height": null,
            "min_height": null,
            "padding": null,
            "grid_auto_rows": null,
            "grid_gap": null,
            "max_width": null,
            "order": null,
            "_view_module_version": "1.2.0",
            "grid_template_areas": null,
            "object_position": null,
            "object_fit": null,
            "grid_auto_columns": null,
            "margin": null,
            "display": null,
            "left": null
          }
        },
        "8da5111c0dec44cfbdf10b6c7a6617e9": {
          "model_module": "@jupyter-widgets/controls",
          "model_name": "DescriptionStyleModel",
          "state": {
            "_view_name": "StyleView",
            "_model_name": "DescriptionStyleModel",
            "description_width": "",
            "_view_module": "@jupyter-widgets/base",
            "_model_module_version": "1.5.0",
            "_view_count": null,
            "_view_module_version": "1.2.0",
            "_model_module": "@jupyter-widgets/controls"
          }
        },
        "f8302d55b1f546d1b0390e6253d4e7f3": {
          "model_module": "@jupyter-widgets/base",
          "model_name": "LayoutModel",
          "state": {
            "_view_name": "LayoutView",
            "grid_template_rows": null,
            "right": null,
            "justify_content": null,
            "_view_module": "@jupyter-widgets/base",
            "overflow": null,
            "_model_module_version": "1.2.0",
            "_view_count": null,
            "flex_flow": null,
            "width": null,
            "min_width": null,
            "border": null,
            "align_items": null,
            "bottom": null,
            "_model_module": "@jupyter-widgets/base",
            "top": null,
            "grid_column": null,
            "overflow_y": null,
            "overflow_x": null,
            "grid_auto_flow": null,
            "grid_area": null,
            "grid_template_columns": null,
            "flex": null,
            "_model_name": "LayoutModel",
            "justify_items": null,
            "grid_row": null,
            "max_height": null,
            "align_content": null,
            "visibility": null,
            "align_self": null,
            "height": null,
            "min_height": null,
            "padding": null,
            "grid_auto_rows": null,
            "grid_gap": null,
            "max_width": null,
            "order": null,
            "_view_module_version": "1.2.0",
            "grid_template_areas": null,
            "object_position": null,
            "object_fit": null,
            "grid_auto_columns": null,
            "margin": null,
            "display": null,
            "left": null
          }
        },
        "8c45771245e24c28ad78710f3115a014": {
          "model_module": "@jupyter-widgets/controls",
          "model_name": "HBoxModel",
          "state": {
            "_view_name": "HBoxView",
            "_dom_classes": [],
            "_model_name": "HBoxModel",
            "_view_module": "@jupyter-widgets/controls",
            "_model_module_version": "1.5.0",
            "_view_count": null,
            "_view_module_version": "1.5.0",
            "box_style": "",
            "layout": "IPY_MODEL_e739e2e67881458287c8b6126232ca9b",
            "_model_module": "@jupyter-widgets/controls",
            "children": [
              "IPY_MODEL_2700718da687423b956868c50da4f460",
              "IPY_MODEL_b10135518e6e426686660ab999a9bc99"
            ]
          }
        },
        "e739e2e67881458287c8b6126232ca9b": {
          "model_module": "@jupyter-widgets/base",
          "model_name": "LayoutModel",
          "state": {
            "_view_name": "LayoutView",
            "grid_template_rows": null,
            "right": null,
            "justify_content": null,
            "_view_module": "@jupyter-widgets/base",
            "overflow": null,
            "_model_module_version": "1.2.0",
            "_view_count": null,
            "flex_flow": null,
            "width": null,
            "min_width": null,
            "border": null,
            "align_items": null,
            "bottom": null,
            "_model_module": "@jupyter-widgets/base",
            "top": null,
            "grid_column": null,
            "overflow_y": null,
            "overflow_x": null,
            "grid_auto_flow": null,
            "grid_area": null,
            "grid_template_columns": null,
            "flex": null,
            "_model_name": "LayoutModel",
            "justify_items": null,
            "grid_row": null,
            "max_height": null,
            "align_content": null,
            "visibility": null,
            "align_self": null,
            "height": null,
            "min_height": null,
            "padding": null,
            "grid_auto_rows": null,
            "grid_gap": null,
            "max_width": null,
            "order": null,
            "_view_module_version": "1.2.0",
            "grid_template_areas": null,
            "object_position": null,
            "object_fit": null,
            "grid_auto_columns": null,
            "margin": null,
            "display": null,
            "left": null
          }
        },
        "2700718da687423b956868c50da4f460": {
          "model_module": "@jupyter-widgets/controls",
          "model_name": "FloatProgressModel",
          "state": {
            "_view_name": "ProgressView",
            "style": "IPY_MODEL_6ba24d1b2edf4e32a1ecb0dbc7398e38",
            "_dom_classes": [],
            "description": "100%",
            "_model_name": "FloatProgressModel",
            "bar_style": "success",
            "max": 5518,
            "_view_module": "@jupyter-widgets/controls",
            "_model_module_version": "1.5.0",
            "value": 5518,
            "_view_count": null,
            "_view_module_version": "1.5.0",
            "orientation": "horizontal",
            "min": 0,
            "description_tooltip": null,
            "_model_module": "@jupyter-widgets/controls",
            "layout": "IPY_MODEL_81a08e1ec216452096a71bbcd106a709"
          }
        },
        "b10135518e6e426686660ab999a9bc99": {
          "model_module": "@jupyter-widgets/controls",
          "model_name": "HTMLModel",
          "state": {
            "_view_name": "HTMLView",
            "style": "IPY_MODEL_00b11cf8c6114d1fa32fada32a7c9465",
            "_dom_classes": [],
            "description": "",
            "_model_name": "HTMLModel",
            "placeholder": "​",
            "_view_module": "@jupyter-widgets/controls",
            "_model_module_version": "1.5.0",
            "value": " 5518/5518 [08:45&lt;00:00, 10.51it/s]",
            "_view_count": null,
            "_view_module_version": "1.5.0",
            "description_tooltip": null,
            "_model_module": "@jupyter-widgets/controls",
            "layout": "IPY_MODEL_1a369407ec9c4bf29d4092ba8dd4ff8d"
          }
        },
        "6ba24d1b2edf4e32a1ecb0dbc7398e38": {
          "model_module": "@jupyter-widgets/controls",
          "model_name": "ProgressStyleModel",
          "state": {
            "_view_name": "StyleView",
            "_model_name": "ProgressStyleModel",
            "description_width": "initial",
            "_view_module": "@jupyter-widgets/base",
            "_model_module_version": "1.5.0",
            "_view_count": null,
            "_view_module_version": "1.2.0",
            "bar_color": null,
            "_model_module": "@jupyter-widgets/controls"
          }
        },
        "81a08e1ec216452096a71bbcd106a709": {
          "model_module": "@jupyter-widgets/base",
          "model_name": "LayoutModel",
          "state": {
            "_view_name": "LayoutView",
            "grid_template_rows": null,
            "right": null,
            "justify_content": null,
            "_view_module": "@jupyter-widgets/base",
            "overflow": null,
            "_model_module_version": "1.2.0",
            "_view_count": null,
            "flex_flow": null,
            "width": null,
            "min_width": null,
            "border": null,
            "align_items": null,
            "bottom": null,
            "_model_module": "@jupyter-widgets/base",
            "top": null,
            "grid_column": null,
            "overflow_y": null,
            "overflow_x": null,
            "grid_auto_flow": null,
            "grid_area": null,
            "grid_template_columns": null,
            "flex": null,
            "_model_name": "LayoutModel",
            "justify_items": null,
            "grid_row": null,
            "max_height": null,
            "align_content": null,
            "visibility": null,
            "align_self": null,
            "height": null,
            "min_height": null,
            "padding": null,
            "grid_auto_rows": null,
            "grid_gap": null,
            "max_width": null,
            "order": null,
            "_view_module_version": "1.2.0",
            "grid_template_areas": null,
            "object_position": null,
            "object_fit": null,
            "grid_auto_columns": null,
            "margin": null,
            "display": null,
            "left": null
          }
        },
        "00b11cf8c6114d1fa32fada32a7c9465": {
          "model_module": "@jupyter-widgets/controls",
          "model_name": "DescriptionStyleModel",
          "state": {
            "_view_name": "StyleView",
            "_model_name": "DescriptionStyleModel",
            "description_width": "",
            "_view_module": "@jupyter-widgets/base",
            "_model_module_version": "1.5.0",
            "_view_count": null,
            "_view_module_version": "1.2.0",
            "_model_module": "@jupyter-widgets/controls"
          }
        },
        "1a369407ec9c4bf29d4092ba8dd4ff8d": {
          "model_module": "@jupyter-widgets/base",
          "model_name": "LayoutModel",
          "state": {
            "_view_name": "LayoutView",
            "grid_template_rows": null,
            "right": null,
            "justify_content": null,
            "_view_module": "@jupyter-widgets/base",
            "overflow": null,
            "_model_module_version": "1.2.0",
            "_view_count": null,
            "flex_flow": null,
            "width": null,
            "min_width": null,
            "border": null,
            "align_items": null,
            "bottom": null,
            "_model_module": "@jupyter-widgets/base",
            "top": null,
            "grid_column": null,
            "overflow_y": null,
            "overflow_x": null,
            "grid_auto_flow": null,
            "grid_area": null,
            "grid_template_columns": null,
            "flex": null,
            "_model_name": "LayoutModel",
            "justify_items": null,
            "grid_row": null,
            "max_height": null,
            "align_content": null,
            "visibility": null,
            "align_self": null,
            "height": null,
            "min_height": null,
            "padding": null,
            "grid_auto_rows": null,
            "grid_gap": null,
            "max_width": null,
            "order": null,
            "_view_module_version": "1.2.0",
            "grid_template_areas": null,
            "object_position": null,
            "object_fit": null,
            "grid_auto_columns": null,
            "margin": null,
            "display": null,
            "left": null
          }
        }
      }
    },
    "accelerator": "GPU"
  },
  "cells": [
    {
      "cell_type": "code",
      "metadata": {
        "id": "jdx_2au9wxau",
        "colab": {
          "base_uri": "https://localhost:8080/"
        },
        "outputId": "1ee7d70d-719b-44e3-bdfd-18d357767e99"
      },
      "source": [
        "\\from google.colab import drive\n",
        "drive.mount('/content/drive')"
      ],
      "execution_count": 1,
      "outputs": [
        {
          "output_type": "stream",
          "text": [
            "Mounted at /content/drive\n"
          ],
          "name": "stdout"
        }
      ]
    },
    {
      "cell_type": "code",
      "metadata": {
        "id": "hCax036Iw8RF",
        "colab": {
          "base_uri": "https://localhost:8080/"
        },
        "outputId": "0558dcc9-c9ce-45da-f58f-54a798f5c64d"
      },
      "source": [
        "!pip install pydicom"
      ],
      "execution_count": 2,
      "outputs": [
        {
          "output_type": "stream",
          "text": [
            "Collecting pydicom\n",
            "\u001b[?25l  Downloading https://files.pythonhosted.org/packages/f4/15/df16546bc59bfca390cf072d473fb2c8acd4231636f64356593a63137e55/pydicom-2.1.2-py3-none-any.whl (1.9MB)\n",
            "\u001b[K     |████████████████████████████████| 1.9MB 7.5MB/s \n",
            "\u001b[?25hInstalling collected packages: pydicom\n",
            "Successfully installed pydicom-2.1.2\n"
          ],
          "name": "stdout"
        }
      ]
    },
    {
      "cell_type": "code",
      "metadata": {
        "id": "bNOSs-UZw-jn",
        "colab": {
          "base_uri": "https://localhost:8080/",
          "height": 995
        },
        "outputId": "3cf9e799-49f1-4d9f-c6c2-f05b91cc1b6d"
      },
      "source": [
        "!pip install wandb\n",
        "import wandb\n",
        "wandb.login()\n",
        "wandb.init(project='homework3')"
      ],
      "execution_count": 5,
      "outputs": [
        {
          "output_type": "stream",
          "text": [
            "Requirement already satisfied: wandb in /usr/local/lib/python3.7/dist-packages (0.10.33)\n",
            "Requirement already satisfied: GitPython>=1.0.0 in /usr/local/lib/python3.7/dist-packages (from wandb) (3.1.18)\n",
            "Requirement already satisfied: six>=1.13.0 in /usr/local/lib/python3.7/dist-packages (from wandb) (1.15.0)\n",
            "Requirement already satisfied: Click!=8.0.0,>=7.0 in /usr/local/lib/python3.7/dist-packages (from wandb) (7.1.2)\n",
            "Requirement already satisfied: subprocess32>=3.5.3 in /usr/local/lib/python3.7/dist-packages (from wandb) (3.5.4)\n",
            "Requirement already satisfied: docker-pycreds>=0.4.0 in /usr/local/lib/python3.7/dist-packages (from wandb) (0.4.0)\n",
            "Requirement already satisfied: pathtools in /usr/local/lib/python3.7/dist-packages (from wandb) (0.1.2)\n",
            "Requirement already satisfied: configparser>=3.8.1 in /usr/local/lib/python3.7/dist-packages (from wandb) (5.0.2)\n",
            "Requirement already satisfied: requests<3,>=2.0.0 in /usr/local/lib/python3.7/dist-packages (from wandb) (2.23.0)\n",
            "Requirement already satisfied: sentry-sdk>=0.4.0 in /usr/local/lib/python3.7/dist-packages (from wandb) (1.1.0)\n",
            "Requirement already satisfied: python-dateutil>=2.6.1 in /usr/local/lib/python3.7/dist-packages (from wandb) (2.8.1)\n",
            "Requirement already satisfied: PyYAML in /usr/local/lib/python3.7/dist-packages (from wandb) (3.13)\n",
            "Requirement already satisfied: protobuf>=3.12.0 in /usr/local/lib/python3.7/dist-packages (from wandb) (3.12.4)\n",
            "Requirement already satisfied: psutil>=5.0.0 in /usr/local/lib/python3.7/dist-packages (from wandb) (5.4.8)\n",
            "Requirement already satisfied: shortuuid>=0.5.0 in /usr/local/lib/python3.7/dist-packages (from wandb) (1.0.1)\n",
            "Requirement already satisfied: promise<3,>=2.0 in /usr/local/lib/python3.7/dist-packages (from wandb) (2.3)\n",
            "Requirement already satisfied: gitdb<5,>=4.0.1 in /usr/local/lib/python3.7/dist-packages (from GitPython>=1.0.0->wandb) (4.0.7)\n",
            "Requirement already satisfied: typing-extensions>=3.7.4.0; python_version < \"3.8\" in /usr/local/lib/python3.7/dist-packages (from GitPython>=1.0.0->wandb) (3.7.4.3)\n",
            "Requirement already satisfied: idna<3,>=2.5 in /usr/local/lib/python3.7/dist-packages (from requests<3,>=2.0.0->wandb) (2.10)\n",
            "Requirement already satisfied: chardet<4,>=3.0.2 in /usr/local/lib/python3.7/dist-packages (from requests<3,>=2.0.0->wandb) (3.0.4)\n",
            "Requirement already satisfied: certifi>=2017.4.17 in /usr/local/lib/python3.7/dist-packages (from requests<3,>=2.0.0->wandb) (2021.5.30)\n",
            "Requirement already satisfied: urllib3!=1.25.0,!=1.25.1,<1.26,>=1.21.1 in /usr/local/lib/python3.7/dist-packages (from requests<3,>=2.0.0->wandb) (1.24.3)\n",
            "Requirement already satisfied: setuptools in /usr/local/lib/python3.7/dist-packages (from protobuf>=3.12.0->wandb) (57.0.0)\n",
            "Requirement already satisfied: smmap<5,>=3.0.1 in /usr/local/lib/python3.7/dist-packages (from gitdb<5,>=4.0.1->GitPython>=1.0.0->wandb) (4.0.0)\n"
          ],
          "name": "stdout"
        },
        {
          "output_type": "stream",
          "text": [
            "\u001b[34m\u001b[1mwandb\u001b[0m: Currently logged in as: \u001b[33mting-liu\u001b[0m (use `wandb login --relogin` to force relogin)\n"
          ],
          "name": "stderr"
        },
        {
          "output_type": "display_data",
          "data": {
            "text/html": [
              "\n",
              "                Tracking run with wandb version 0.10.33<br/>\n",
              "                Syncing run <strong style=\"color:#cdcd00\">electric-river-82</strong> to <a href=\"https://wandb.ai\" target=\"_blank\">Weights & Biases</a> <a href=\"https://docs.wandb.com/integrations/jupyter.html\" target=\"_blank\">(Documentation)</a>.<br/>\n",
              "                Project page: <a href=\"https://wandb.ai/ting-liu/homework3\" target=\"_blank\">https://wandb.ai/ting-liu/homework3</a><br/>\n",
              "                Run page: <a href=\"https://wandb.ai/ting-liu/homework3/runs/2tspyrwj\" target=\"_blank\">https://wandb.ai/ting-liu/homework3/runs/2tspyrwj</a><br/>\n",
              "                Run data is saved locally in <code>/content/wandb/run-20210704_162928-2tspyrwj</code><br/><br/>\n",
              "            "
            ],
            "text/plain": [
              "<IPython.core.display.HTML object>"
            ]
          },
          "metadata": {
            "tags": []
          }
        },
        {
          "output_type": "execute_result",
          "data": {
            "text/plain": [
              "<wandb.sdk.wandb_run.Run at 0x7f49e8f46f90>"
            ],
            "text/html": [
              "<h1>Run(2tspyrwj)</h1><iframe src=\"https://wandb.ai/ting-liu/homework3/runs/2tspyrwj\" style=\"border:none;width:100%;height:400px\"></iframe>"
            ]
          },
          "metadata": {
            "tags": []
          },
          "execution_count": 5
        }
      ]
    },
    {
      "cell_type": "code",
      "metadata": {
        "id": "wOkJUW-WxC-6"
      },
      "source": [
        "import torch\n",
        "import torch.nn as nn\n",
        "import torchvision.models as models\n",
        "import matplotlib.pyplot as plt\n",
        "import matplotlib.patches as patches\n",
        "import os\n",
        "import csv\n",
        "import random\n",
        "import numpy as np\n",
        "import pandas as pd\n",
        "import zipfile\n",
        "import shutil\n",
        "import progressbar\n",
        "import albumentations as A\n",
        "import cv2 as cv\n",
        "from pydicom import dcmread\n",
        "from pydicom.data import get_testdata_files\n",
        "from PIL import Image\n",
        "from torchvision import datasets, models, transforms, models, utils\n",
        "from tqdm.notebook import tqdm\n",
        "from torch.utils.data import Dataset, DataLoader\n",
        "\n"
      ],
      "execution_count": 3,
      "outputs": []
    },
    {
      "cell_type": "code",
      "metadata": {
        "colab": {
          "base_uri": "https://localhost:8080/"
        },
        "id": "2L93nyQIxFcw",
        "outputId": "d829af41-2b4e-4dd2-b8ce-0941bbedba71"
      },
      "source": [
        "%%shell\n",
        "\n",
        "pip install cython\n",
        "# Install pycocotools, the version by default in Colab\n",
        "# has a bug fixed in https://github.com/cocodataset/cocoapi/pull/354\n",
        "pip install -U 'git+https://github.com/cocodataset/cocoapi.git#subdirectory=PythonAPI'"
      ],
      "execution_count": 4,
      "outputs": [
        {
          "output_type": "stream",
          "text": [
            "Requirement already satisfied: cython in /usr/local/lib/python3.7/dist-packages (0.29.23)\n",
            "Collecting git+https://github.com/cocodataset/cocoapi.git#subdirectory=PythonAPI\n",
            "  Cloning https://github.com/cocodataset/cocoapi.git to /tmp/pip-req-build-ihj68y1p\n",
            "  Running command git clone -q https://github.com/cocodataset/cocoapi.git /tmp/pip-req-build-ihj68y1p\n",
            "Requirement already satisfied, skipping upgrade: setuptools>=18.0 in /usr/local/lib/python3.7/dist-packages (from pycocotools==2.0) (57.0.0)\n",
            "Requirement already satisfied, skipping upgrade: cython>=0.27.3 in /usr/local/lib/python3.7/dist-packages (from pycocotools==2.0) (0.29.23)\n",
            "Requirement already satisfied, skipping upgrade: matplotlib>=2.1.0 in /usr/local/lib/python3.7/dist-packages (from pycocotools==2.0) (3.2.2)\n",
            "Requirement already satisfied, skipping upgrade: numpy>=1.11 in /usr/local/lib/python3.7/dist-packages (from matplotlib>=2.1.0->pycocotools==2.0) (1.19.5)\n",
            "Requirement already satisfied, skipping upgrade: python-dateutil>=2.1 in /usr/local/lib/python3.7/dist-packages (from matplotlib>=2.1.0->pycocotools==2.0) (2.8.1)\n",
            "Requirement already satisfied, skipping upgrade: cycler>=0.10 in /usr/local/lib/python3.7/dist-packages (from matplotlib>=2.1.0->pycocotools==2.0) (0.10.0)\n",
            "Requirement already satisfied, skipping upgrade: kiwisolver>=1.0.1 in /usr/local/lib/python3.7/dist-packages (from matplotlib>=2.1.0->pycocotools==2.0) (1.3.1)\n",
            "Requirement already satisfied, skipping upgrade: pyparsing!=2.0.4,!=2.1.2,!=2.1.6,>=2.0.1 in /usr/local/lib/python3.7/dist-packages (from matplotlib>=2.1.0->pycocotools==2.0) (2.4.7)\n",
            "Requirement already satisfied, skipping upgrade: six>=1.5 in /usr/local/lib/python3.7/dist-packages (from python-dateutil>=2.1->matplotlib>=2.1.0->pycocotools==2.0) (1.15.0)\n",
            "Building wheels for collected packages: pycocotools\n",
            "  Building wheel for pycocotools (setup.py) ... \u001b[?25l\u001b[?25hdone\n",
            "  Created wheel for pycocotools: filename=pycocotools-2.0-cp37-cp37m-linux_x86_64.whl size=263906 sha256=e9749ffd3477e7ab5600bc68dccec08d83b2877f8d59efb6477c55af5c3344db\n",
            "  Stored in directory: /tmp/pip-ephem-wheel-cache-pgzddw_s/wheels/90/51/41/646daf401c3bc408ff10de34ec76587a9b3ebfac8d21ca5c3a\n",
            "Successfully built pycocotools\n",
            "Installing collected packages: pycocotools\n",
            "  Found existing installation: pycocotools 2.0.2\n",
            "    Uninstalling pycocotools-2.0.2:\n",
            "      Successfully uninstalled pycocotools-2.0.2\n",
            "Successfully installed pycocotools-2.0\n"
          ],
          "name": "stdout"
        },
        {
          "output_type": "execute_result",
          "data": {
            "text/plain": [
              ""
            ]
          },
          "metadata": {
            "tags": []
          },
          "execution_count": 4
        }
      ]
    },
    {
      "cell_type": "code",
      "metadata": {
        "colab": {
          "base_uri": "https://localhost:8080/"
        },
        "id": "2XyvWpB9xHso",
        "outputId": "2604face-adc7-48a4-f850-df63e34f911d"
      },
      "source": [
        "SavePath = '/content/drive/MyDrive/Colab Notebooks/homework3'\n",
        "df=pd.read_csv('/content/drive/MyDrive/Colab Notebooks/homework3/train.csv 的副本')\n",
        "\n",
        "#df=df.drop_duplicates(subset='patientId')\n",
        "df[['x','y','width','height']] = df[['x','y','width','height']].div((1024/224))\n",
        "df=df.round(2)\n",
        "df[['x','y']] = df[['x','y']].fillna(1)\n",
        "df[['width','height']] = df[['width','height']].fillna(150)\n",
        "#df=df.dropna()\n",
        "#df.iloc[0,0]\n",
        "len(df)\n"
      ],
      "execution_count": 5,
      "outputs": [
        {
          "output_type": "execute_result",
          "data": {
            "text/plain": [
              "24181"
            ]
          },
          "metadata": {
            "tags": []
          },
          "execution_count": 5
        }
      ]
    },
    {
      "cell_type": "code",
      "metadata": {
        "id": "ncQLnNSmv2nH"
      },
      "source": [
        "df_new=df.drop_duplicates(subset='patientId')"
      ],
      "execution_count": 7,
      "outputs": []
    },
    {
      "cell_type": "code",
      "metadata": {
        "colab": {
          "base_uri": "https://localhost:8080/",
          "height": 414
        },
        "id": "gWxpoctkrEvS",
        "outputId": "264f8086-b21e-4115-dfa2-c63b45755bd1"
      },
      "source": [
        "df_new[df_new['Target']==1]"
      ],
      "execution_count": 8,
      "outputs": [
        {
          "output_type": "execute_result",
          "data": {
            "text/html": [
              "<div>\n",
              "<style scoped>\n",
              "    .dataframe tbody tr th:only-of-type {\n",
              "        vertical-align: middle;\n",
              "    }\n",
              "\n",
              "    .dataframe tbody tr th {\n",
              "        vertical-align: top;\n",
              "    }\n",
              "\n",
              "    .dataframe thead th {\n",
              "        text-align: right;\n",
              "    }\n",
              "</style>\n",
              "<table border=\"1\" class=\"dataframe\">\n",
              "  <thead>\n",
              "    <tr style=\"text-align: right;\">\n",
              "      <th></th>\n",
              "      <th>patientId</th>\n",
              "      <th>class</th>\n",
              "      <th>Target</th>\n",
              "      <th>x</th>\n",
              "      <th>y</th>\n",
              "      <th>width</th>\n",
              "      <th>height</th>\n",
              "    </tr>\n",
              "  </thead>\n",
              "  <tbody>\n",
              "    <tr>\n",
              "      <th>4</th>\n",
              "      <td>00436515-870c-4b36-a041-de91049b9ab4</td>\n",
              "      <td>Lung Opacity</td>\n",
              "      <td>1</td>\n",
              "      <td>57.75</td>\n",
              "      <td>33.25</td>\n",
              "      <td>46.59</td>\n",
              "      <td>82.91</td>\n",
              "    </tr>\n",
              "    <tr>\n",
              "      <th>8</th>\n",
              "      <td>00704310-78a8-4b38-8475-49f4573b2dbb</td>\n",
              "      <td>Lung Opacity</td>\n",
              "      <td>1</td>\n",
              "      <td>70.66</td>\n",
              "      <td>126.22</td>\n",
              "      <td>35.00</td>\n",
              "      <td>22.75</td>\n",
              "    </tr>\n",
              "    <tr>\n",
              "      <th>14</th>\n",
              "      <td>00aecb01-a116-45a2-956c-08d2fa55433f</td>\n",
              "      <td>Lung Opacity</td>\n",
              "      <td>1</td>\n",
              "      <td>63.00</td>\n",
              "      <td>70.44</td>\n",
              "      <td>20.56</td>\n",
              "      <td>29.53</td>\n",
              "    </tr>\n",
              "    <tr>\n",
              "      <th>16</th>\n",
              "      <td>00c0b293-48e7-4e16-ac76-9269ba535a62</td>\n",
              "      <td>Lung Opacity</td>\n",
              "      <td>1</td>\n",
              "      <td>66.94</td>\n",
              "      <td>119.00</td>\n",
              "      <td>36.75</td>\n",
              "      <td>53.38</td>\n",
              "    </tr>\n",
              "    <tr>\n",
              "      <th>19</th>\n",
              "      <td>00f08de1-517e-4652-a04f-d1dc9ee48593</td>\n",
              "      <td>Lung Opacity</td>\n",
              "      <td>1</td>\n",
              "      <td>39.59</td>\n",
              "      <td>40.25</td>\n",
              "      <td>45.06</td>\n",
              "      <td>110.69</td>\n",
              "    </tr>\n",
              "    <tr>\n",
              "      <th>...</th>\n",
              "      <td>...</td>\n",
              "      <td>...</td>\n",
              "      <td>...</td>\n",
              "      <td>...</td>\n",
              "      <td>...</td>\n",
              "      <td>...</td>\n",
              "      <td>...</td>\n",
              "    </tr>\n",
              "    <tr>\n",
              "      <th>24144</th>\n",
              "      <td>d91b519f-9216-4ff9-9e2a-3356bfe4e391</td>\n",
              "      <td>Lung Opacity</td>\n",
              "      <td>1</td>\n",
              "      <td>59.06</td>\n",
              "      <td>115.50</td>\n",
              "      <td>42.88</td>\n",
              "      <td>33.91</td>\n",
              "    </tr>\n",
              "    <tr>\n",
              "      <th>24147</th>\n",
              "      <td>d9245b95-1261-4dd6-88a8-2c9a69578b0e</td>\n",
              "      <td>Lung Opacity</td>\n",
              "      <td>1</td>\n",
              "      <td>144.16</td>\n",
              "      <td>70.44</td>\n",
              "      <td>35.66</td>\n",
              "      <td>57.53</td>\n",
              "    </tr>\n",
              "    <tr>\n",
              "      <th>24158</th>\n",
              "      <td>d930583e-0c91-4b5f-9a23-0f71f0349586</td>\n",
              "      <td>Lung Opacity</td>\n",
              "      <td>1</td>\n",
              "      <td>32.38</td>\n",
              "      <td>132.56</td>\n",
              "      <td>45.06</td>\n",
              "      <td>27.34</td>\n",
              "    </tr>\n",
              "    <tr>\n",
              "      <th>24169</th>\n",
              "      <td>d947215e-c4c5-4907-8d47-0735a0ba4fb9</td>\n",
              "      <td>Lung Opacity</td>\n",
              "      <td>1</td>\n",
              "      <td>156.84</td>\n",
              "      <td>117.47</td>\n",
              "      <td>37.84</td>\n",
              "      <td>50.53</td>\n",
              "    </tr>\n",
              "    <tr>\n",
              "      <th>24175</th>\n",
              "      <td>d9528d5b-b058-467c-accb-618c100f3696</td>\n",
              "      <td>Lung Opacity</td>\n",
              "      <td>1</td>\n",
              "      <td>50.75</td>\n",
              "      <td>102.59</td>\n",
              "      <td>42.22</td>\n",
              "      <td>71.97</td>\n",
              "    </tr>\n",
              "  </tbody>\n",
              "</table>\n",
              "<p>5004 rows × 7 columns</p>\n",
              "</div>"
            ],
            "text/plain": [
              "                                  patientId         class  ...  width  height\n",
              "4      00436515-870c-4b36-a041-de91049b9ab4  Lung Opacity  ...  46.59   82.91\n",
              "8      00704310-78a8-4b38-8475-49f4573b2dbb  Lung Opacity  ...  35.00   22.75\n",
              "14     00aecb01-a116-45a2-956c-08d2fa55433f  Lung Opacity  ...  20.56   29.53\n",
              "16     00c0b293-48e7-4e16-ac76-9269ba535a62  Lung Opacity  ...  36.75   53.38\n",
              "19     00f08de1-517e-4652-a04f-d1dc9ee48593  Lung Opacity  ...  45.06  110.69\n",
              "...                                     ...           ...  ...    ...     ...\n",
              "24144  d91b519f-9216-4ff9-9e2a-3356bfe4e391  Lung Opacity  ...  42.88   33.91\n",
              "24147  d9245b95-1261-4dd6-88a8-2c9a69578b0e  Lung Opacity  ...  35.66   57.53\n",
              "24158  d930583e-0c91-4b5f-9a23-0f71f0349586  Lung Opacity  ...  45.06   27.34\n",
              "24169  d947215e-c4c5-4907-8d47-0735a0ba4fb9  Lung Opacity  ...  37.84   50.53\n",
              "24175  d9528d5b-b058-467c-accb-618c100f3696  Lung Opacity  ...  42.22   71.97\n",
              "\n",
              "[5004 rows x 7 columns]"
            ]
          },
          "metadata": {
            "tags": []
          },
          "execution_count": 8
        }
      ]
    },
    {
      "cell_type": "code",
      "metadata": {
        "colab": {
          "base_uri": "https://localhost:8080/",
          "height": 414
        },
        "id": "lSs5_lNIv-ni",
        "outputId": "a2fa151e-8a6e-4aa2-bdd9-53c115eb679e"
      },
      "source": [
        "df_new"
      ],
      "execution_count": null,
      "outputs": [
        {
          "output_type": "execute_result",
          "data": {
            "text/html": [
              "<div>\n",
              "<style scoped>\n",
              "    .dataframe tbody tr th:only-of-type {\n",
              "        vertical-align: middle;\n",
              "    }\n",
              "\n",
              "    .dataframe tbody tr th {\n",
              "        vertical-align: top;\n",
              "    }\n",
              "\n",
              "    .dataframe thead th {\n",
              "        text-align: right;\n",
              "    }\n",
              "</style>\n",
              "<table border=\"1\" class=\"dataframe\">\n",
              "  <thead>\n",
              "    <tr style=\"text-align: right;\">\n",
              "      <th></th>\n",
              "      <th>patientId</th>\n",
              "      <th>class</th>\n",
              "      <th>Target</th>\n",
              "      <th>x</th>\n",
              "      <th>y</th>\n",
              "      <th>width</th>\n",
              "      <th>height</th>\n",
              "    </tr>\n",
              "  </thead>\n",
              "  <tbody>\n",
              "    <tr>\n",
              "      <th>0</th>\n",
              "      <td>0004cfab-14fd-4e49-80ba-63a80b6bddd6</td>\n",
              "      <td>No Lung Opacity / Not Normal</td>\n",
              "      <td>0</td>\n",
              "      <td>1.00</td>\n",
              "      <td>1.00</td>\n",
              "      <td>150.00</td>\n",
              "      <td>150.00</td>\n",
              "    </tr>\n",
              "    <tr>\n",
              "      <th>1</th>\n",
              "      <td>00313ee0-9eaa-42f4-b0ab-c148ed3241cd</td>\n",
              "      <td>No Lung Opacity / Not Normal</td>\n",
              "      <td>0</td>\n",
              "      <td>1.00</td>\n",
              "      <td>1.00</td>\n",
              "      <td>150.00</td>\n",
              "      <td>150.00</td>\n",
              "    </tr>\n",
              "    <tr>\n",
              "      <th>2</th>\n",
              "      <td>00322d4d-1c29-4943-afc9-b6754be640eb</td>\n",
              "      <td>No Lung Opacity / Not Normal</td>\n",
              "      <td>0</td>\n",
              "      <td>1.00</td>\n",
              "      <td>1.00</td>\n",
              "      <td>150.00</td>\n",
              "      <td>150.00</td>\n",
              "    </tr>\n",
              "    <tr>\n",
              "      <th>3</th>\n",
              "      <td>003d8fa0-6bf1-40ed-b54c-ac657f8495c5</td>\n",
              "      <td>Normal</td>\n",
              "      <td>0</td>\n",
              "      <td>1.00</td>\n",
              "      <td>1.00</td>\n",
              "      <td>150.00</td>\n",
              "      <td>150.00</td>\n",
              "    </tr>\n",
              "    <tr>\n",
              "      <th>4</th>\n",
              "      <td>00436515-870c-4b36-a041-de91049b9ab4</td>\n",
              "      <td>Lung Opacity</td>\n",
              "      <td>1</td>\n",
              "      <td>57.75</td>\n",
              "      <td>33.25</td>\n",
              "      <td>46.59</td>\n",
              "      <td>82.91</td>\n",
              "    </tr>\n",
              "    <tr>\n",
              "      <th>...</th>\n",
              "      <td>...</td>\n",
              "      <td>...</td>\n",
              "      <td>...</td>\n",
              "      <td>...</td>\n",
              "      <td>...</td>\n",
              "      <td>...</td>\n",
              "      <td>...</td>\n",
              "    </tr>\n",
              "    <tr>\n",
              "      <th>24175</th>\n",
              "      <td>d9528d5b-b058-467c-accb-618c100f3696</td>\n",
              "      <td>Lung Opacity</td>\n",
              "      <td>1</td>\n",
              "      <td>50.75</td>\n",
              "      <td>102.59</td>\n",
              "      <td>42.22</td>\n",
              "      <td>71.97</td>\n",
              "    </tr>\n",
              "    <tr>\n",
              "      <th>24177</th>\n",
              "      <td>d955b013-2d49-4afd-8218-40f5e3af8312</td>\n",
              "      <td>Normal</td>\n",
              "      <td>0</td>\n",
              "      <td>1.00</td>\n",
              "      <td>1.00</td>\n",
              "      <td>150.00</td>\n",
              "      <td>150.00</td>\n",
              "    </tr>\n",
              "    <tr>\n",
              "      <th>24178</th>\n",
              "      <td>d95be64c-1ef5-4521-833f-fc3818885c45</td>\n",
              "      <td>Normal</td>\n",
              "      <td>0</td>\n",
              "      <td>1.00</td>\n",
              "      <td>1.00</td>\n",
              "      <td>150.00</td>\n",
              "      <td>150.00</td>\n",
              "    </tr>\n",
              "    <tr>\n",
              "      <th>24179</th>\n",
              "      <td>d95cc647-caee-42f2-8229-0d22d64d92f6</td>\n",
              "      <td>No Lung Opacity / Not Normal</td>\n",
              "      <td>0</td>\n",
              "      <td>1.00</td>\n",
              "      <td>1.00</td>\n",
              "      <td>150.00</td>\n",
              "      <td>150.00</td>\n",
              "    </tr>\n",
              "    <tr>\n",
              "      <th>24180</th>\n",
              "      <td>d9607a47-597c-4a40-924d-cd44d106be83</td>\n",
              "      <td>No Lung Opacity / Not Normal</td>\n",
              "      <td>0</td>\n",
              "      <td>1.00</td>\n",
              "      <td>1.00</td>\n",
              "      <td>150.00</td>\n",
              "      <td>150.00</td>\n",
              "    </tr>\n",
              "  </tbody>\n",
              "</table>\n",
              "<p>21166 rows × 7 columns</p>\n",
              "</div>"
            ],
            "text/plain": [
              "                                  patientId  ...  height\n",
              "0      0004cfab-14fd-4e49-80ba-63a80b6bddd6  ...  150.00\n",
              "1      00313ee0-9eaa-42f4-b0ab-c148ed3241cd  ...  150.00\n",
              "2      00322d4d-1c29-4943-afc9-b6754be640eb  ...  150.00\n",
              "3      003d8fa0-6bf1-40ed-b54c-ac657f8495c5  ...  150.00\n",
              "4      00436515-870c-4b36-a041-de91049b9ab4  ...   82.91\n",
              "...                                     ...  ...     ...\n",
              "24175  d9528d5b-b058-467c-accb-618c100f3696  ...   71.97\n",
              "24177  d955b013-2d49-4afd-8218-40f5e3af8312  ...  150.00\n",
              "24178  d95be64c-1ef5-4521-833f-fc3818885c45  ...  150.00\n",
              "24179  d95cc647-caee-42f2-8229-0d22d64d92f6  ...  150.00\n",
              "24180  d9607a47-597c-4a40-924d-cd44d106be83  ...  150.00\n",
              "\n",
              "[21166 rows x 7 columns]"
            ]
          },
          "metadata": {
            "tags": []
          },
          "execution_count": 8
        }
      ]
    },
    {
      "cell_type": "code",
      "metadata": {
        "colab": {
          "base_uri": "https://localhost:8080/",
          "height": 414
        },
        "id": "2NyWeYyvPy0H",
        "outputId": "d02a6d4c-6cc2-47b2-a21d-e402883c3c90"
      },
      "source": [
        "df"
      ],
      "execution_count": null,
      "outputs": [
        {
          "output_type": "execute_result",
          "data": {
            "text/html": [
              "<div>\n",
              "<style scoped>\n",
              "    .dataframe tbody tr th:only-of-type {\n",
              "        vertical-align: middle;\n",
              "    }\n",
              "\n",
              "    .dataframe tbody tr th {\n",
              "        vertical-align: top;\n",
              "    }\n",
              "\n",
              "    .dataframe thead th {\n",
              "        text-align: right;\n",
              "    }\n",
              "</style>\n",
              "<table border=\"1\" class=\"dataframe\">\n",
              "  <thead>\n",
              "    <tr style=\"text-align: right;\">\n",
              "      <th></th>\n",
              "      <th>patientId</th>\n",
              "      <th>class</th>\n",
              "      <th>Target</th>\n",
              "      <th>x</th>\n",
              "      <th>y</th>\n",
              "      <th>width</th>\n",
              "      <th>height</th>\n",
              "    </tr>\n",
              "  </thead>\n",
              "  <tbody>\n",
              "    <tr>\n",
              "      <th>0</th>\n",
              "      <td>0004cfab-14fd-4e49-80ba-63a80b6bddd6</td>\n",
              "      <td>No Lung Opacity / Not Normal</td>\n",
              "      <td>0</td>\n",
              "      <td>1.00</td>\n",
              "      <td>1.00</td>\n",
              "      <td>150.00</td>\n",
              "      <td>150.00</td>\n",
              "    </tr>\n",
              "    <tr>\n",
              "      <th>1</th>\n",
              "      <td>00313ee0-9eaa-42f4-b0ab-c148ed3241cd</td>\n",
              "      <td>No Lung Opacity / Not Normal</td>\n",
              "      <td>0</td>\n",
              "      <td>1.00</td>\n",
              "      <td>1.00</td>\n",
              "      <td>150.00</td>\n",
              "      <td>150.00</td>\n",
              "    </tr>\n",
              "    <tr>\n",
              "      <th>2</th>\n",
              "      <td>00322d4d-1c29-4943-afc9-b6754be640eb</td>\n",
              "      <td>No Lung Opacity / Not Normal</td>\n",
              "      <td>0</td>\n",
              "      <td>1.00</td>\n",
              "      <td>1.00</td>\n",
              "      <td>150.00</td>\n",
              "      <td>150.00</td>\n",
              "    </tr>\n",
              "    <tr>\n",
              "      <th>3</th>\n",
              "      <td>003d8fa0-6bf1-40ed-b54c-ac657f8495c5</td>\n",
              "      <td>Normal</td>\n",
              "      <td>0</td>\n",
              "      <td>1.00</td>\n",
              "      <td>1.00</td>\n",
              "      <td>150.00</td>\n",
              "      <td>150.00</td>\n",
              "    </tr>\n",
              "    <tr>\n",
              "      <th>4</th>\n",
              "      <td>00436515-870c-4b36-a041-de91049b9ab4</td>\n",
              "      <td>Lung Opacity</td>\n",
              "      <td>1</td>\n",
              "      <td>57.75</td>\n",
              "      <td>33.25</td>\n",
              "      <td>46.59</td>\n",
              "      <td>82.91</td>\n",
              "    </tr>\n",
              "    <tr>\n",
              "      <th>...</th>\n",
              "      <td>...</td>\n",
              "      <td>...</td>\n",
              "      <td>...</td>\n",
              "      <td>...</td>\n",
              "      <td>...</td>\n",
              "      <td>...</td>\n",
              "      <td>...</td>\n",
              "    </tr>\n",
              "    <tr>\n",
              "      <th>24176</th>\n",
              "      <td>d9528d5b-b058-467c-accb-618c100f3696</td>\n",
              "      <td>Lung Opacity</td>\n",
              "      <td>1</td>\n",
              "      <td>137.81</td>\n",
              "      <td>94.94</td>\n",
              "      <td>41.78</td>\n",
              "      <td>72.84</td>\n",
              "    </tr>\n",
              "    <tr>\n",
              "      <th>24177</th>\n",
              "      <td>d955b013-2d49-4afd-8218-40f5e3af8312</td>\n",
              "      <td>Normal</td>\n",
              "      <td>0</td>\n",
              "      <td>1.00</td>\n",
              "      <td>1.00</td>\n",
              "      <td>150.00</td>\n",
              "      <td>150.00</td>\n",
              "    </tr>\n",
              "    <tr>\n",
              "      <th>24178</th>\n",
              "      <td>d95be64c-1ef5-4521-833f-fc3818885c45</td>\n",
              "      <td>Normal</td>\n",
              "      <td>0</td>\n",
              "      <td>1.00</td>\n",
              "      <td>1.00</td>\n",
              "      <td>150.00</td>\n",
              "      <td>150.00</td>\n",
              "    </tr>\n",
              "    <tr>\n",
              "      <th>24179</th>\n",
              "      <td>d95cc647-caee-42f2-8229-0d22d64d92f6</td>\n",
              "      <td>No Lung Opacity / Not Normal</td>\n",
              "      <td>0</td>\n",
              "      <td>1.00</td>\n",
              "      <td>1.00</td>\n",
              "      <td>150.00</td>\n",
              "      <td>150.00</td>\n",
              "    </tr>\n",
              "    <tr>\n",
              "      <th>24180</th>\n",
              "      <td>d9607a47-597c-4a40-924d-cd44d106be83</td>\n",
              "      <td>No Lung Opacity / Not Normal</td>\n",
              "      <td>0</td>\n",
              "      <td>1.00</td>\n",
              "      <td>1.00</td>\n",
              "      <td>150.00</td>\n",
              "      <td>150.00</td>\n",
              "    </tr>\n",
              "  </tbody>\n",
              "</table>\n",
              "<p>24181 rows × 7 columns</p>\n",
              "</div>"
            ],
            "text/plain": [
              "                                  patientId  ...  height\n",
              "0      0004cfab-14fd-4e49-80ba-63a80b6bddd6  ...  150.00\n",
              "1      00313ee0-9eaa-42f4-b0ab-c148ed3241cd  ...  150.00\n",
              "2      00322d4d-1c29-4943-afc9-b6754be640eb  ...  150.00\n",
              "3      003d8fa0-6bf1-40ed-b54c-ac657f8495c5  ...  150.00\n",
              "4      00436515-870c-4b36-a041-de91049b9ab4  ...   82.91\n",
              "...                                     ...  ...     ...\n",
              "24176  d9528d5b-b058-467c-accb-618c100f3696  ...   72.84\n",
              "24177  d955b013-2d49-4afd-8218-40f5e3af8312  ...  150.00\n",
              "24178  d95be64c-1ef5-4521-833f-fc3818885c45  ...  150.00\n",
              "24179  d95cc647-caee-42f2-8229-0d22d64d92f6  ...  150.00\n",
              "24180  d9607a47-597c-4a40-924d-cd44d106be83  ...  150.00\n",
              "\n",
              "[24181 rows x 7 columns]"
            ]
          },
          "metadata": {
            "tags": []
          },
          "execution_count": 9
        }
      ]
    },
    {
      "cell_type": "code",
      "metadata": {
        "colab": {
          "base_uri": "https://localhost:8080/"
        },
        "id": "Ayg0bQlpxJ5i",
        "outputId": "9b7d4a32-4f2b-492c-d1f4-98a390b58a15"
      },
      "source": [
        "\n",
        "#分割data\n",
        "imgpath = []\n",
        "imglabel = []\n",
        "\n",
        "# Load csv and add path\n",
        "for idx, row in df_new.iterrows():\n",
        "  imgpath.append('/content/drive/MyDrive/Colab Notebooks/homework3/resize_images/'+row['patientId']+'.png')\n",
        "  imglabel.append(row[\"Target\"])\n",
        "\n",
        "len(imgpath)"
      ],
      "execution_count": 7,
      "outputs": [
        {
          "output_type": "execute_result",
          "data": {
            "text/plain": [
              "21166"
            ]
          },
          "metadata": {
            "tags": []
          },
          "execution_count": 7
        }
      ]
    },
    {
      "cell_type": "code",
      "metadata": {
        "id": "M15kdkzyylRE"
      },
      "source": [
        "train_img = imgpath\n",
        "train_label = np.array(imglabel)"
      ],
      "execution_count": 8,
      "outputs": []
    },
    {
      "cell_type": "code",
      "metadata": {
        "colab": {
          "background_save": true
        },
        "id": "AeuXeYwHxPZ2"
      },
      "source": [
        "#print(len(train_img))\n",
        "#print(len(val_img))\n",
        "#val_img"
      ],
      "execution_count": null,
      "outputs": []
    },
    {
      "cell_type": "code",
      "metadata": {
        "id": "nYiJTSSPxUfU"
      },
      "source": [
        "class dataset(Dataset):\n",
        "    \n",
        "    def __init__(self, traindata,dataframe, trainlabel, transform):\n",
        "        \"\"\"\n",
        "        Args:\n",
        "            csv_file (string): Path to the csv file with annotations.\n",
        "            root_dir (string): Directory with all the images.\n",
        "            transform (callable, optional): Optional transform to be applied\n",
        "                on a sample.\n",
        "        \"\"\"\n",
        "        self.images = traindata\n",
        "        self.df = dataframe\n",
        "        self.label = trainlabel \n",
        "        self.transform = transform\n",
        "        self.image_ids = dataframe['patientId'].unique()\n",
        "    def __len__(self):\n",
        "        return len(self.images)\n",
        "\n",
        "    def __getitem__(self, index):\n",
        "        imgpath = self.images[index]\n",
        "        img=Image.open(imgpath)\n",
        "        img_array = np.array(img)\n",
        "\n",
        "        labels = self.label[index]  \n",
        "            \n",
        "\n",
        "        image_id = self.image_ids[index]\n",
        "        \n",
        "        records = self.df[self.df['patientId'] == image_id]\n",
        "        boxes = records[['x', 'y', 'width', 'height']].values\n",
        "        #boxes = self.df[['x','y','width','height']].values\n",
        "        \n",
        "        obj_ids = np.array(boxes)\n",
        "        num_objs = len(obj_ids)\n",
        "\n",
        "        if int(labels) == 0:\n",
        "          label = np.zeros((num_objs,), dtype=np.int64)\n",
        "        else:\n",
        "          label = np.ones((num_objs,), dtype=np.int64)\n",
        "        label = torch.as_tensor(label,dtype=torch.int64)\n",
        "\n",
        "        area = boxes[:, 2] * boxes[:, 3]\n",
        "        area = torch.as_tensor(area, dtype=torch.float32)\n",
        "\n",
        "        boxes[:, 2] = boxes[:, 0] + boxes[:, 2]\n",
        "        boxes[:, 3] = boxes[:, 1] + boxes[:, 3]\n",
        "        #boxes[:,1],boxes[:,3]=boxes[:,3],boxes[:,1]\n",
        "        boxes=torch.as_tensor(boxes,dtype=torch.float16)\n",
        "        \n",
        "        # there is only one class\n",
        "        #labels = torch.ones((records.shape[0],), dtype=torch.int64)\n",
        "        # suppose all instances are not crowd\n",
        "        iscrowd = torch.zeros((records.shape[0],), dtype=torch.uint8)\n",
        "\n",
        "        target = {}\n",
        "        target[\"boxes\"] = boxes\n",
        "        target[\"labels\"] = label\n",
        "        target[\"image_id\"] = torch.tensor([index])\n",
        "        target[\"area\"] = area\n",
        "        target[\"iscrowd\"] = iscrowd\n",
        "\n",
        "        if self.transform is not None:\n",
        "          img_array, target = self.transform(img_array, target)\n",
        "      \n",
        "        \n",
        "        return img_array,target\n",
        "\n",
        "\n"
      ],
      "execution_count": 9,
      "outputs": []
    },
    {
      "cell_type": "code",
      "metadata": {
        "id": "SzTxOXO1yQrR",
        "colab": {
          "base_uri": "https://localhost:8080/"
        },
        "outputId": "9176d25c-1002-4282-d6a6-af1dd5d693f0"
      },
      "source": [
        "%%shell\n",
        "\n",
        "# Download TorchVision repo to use some files from\n",
        "# references/detection\n",
        "git clone https://github.com/pytorch/vision.git\n",
        "cd vision\n",
        "git checkout v0.3.0\n",
        "\n",
        "cp references/detection/utils.py ../\n",
        "cp references/detection/transforms.py ../\n",
        "cp references/detection/coco_eval.py ../\n",
        "cp references/detection/engine.py ../\n",
        "cp references/detection/coco_utils.py ../"
      ],
      "execution_count": 10,
      "outputs": [
        {
          "output_type": "stream",
          "text": [
            "Cloning into 'vision'...\n",
            "remote: Enumerating objects: 30343, done.\u001b[K\n",
            "remote: Counting objects: 100% (2885/2885), done.\u001b[K\n",
            "remote: Compressing objects: 100% (689/689), done.\u001b[K\n",
            "remote: Total 30343 (delta 2208), reused 2767 (delta 2139), pack-reused 27458\u001b[K\n",
            "Receiving objects: 100% (30343/30343), 38.22 MiB | 31.41 MiB/s, done.\n",
            "Resolving deltas: 100% (22823/22823), done.\n",
            "Note: checking out 'v0.3.0'.\n",
            "\n",
            "You are in 'detached HEAD' state. You can look around, make experimental\n",
            "changes and commit them, and you can discard any commits you make in this\n",
            "state without impacting any branches by performing another checkout.\n",
            "\n",
            "If you want to create a new branch to retain commits you create, you may\n",
            "do so (now or later) by using -b with the checkout command again. Example:\n",
            "\n",
            "  git checkout -b <new-branch-name>\n",
            "\n",
            "HEAD is now at be376084 version check against PyTorch's CUDA version\n"
          ],
          "name": "stdout"
        },
        {
          "output_type": "execute_result",
          "data": {
            "text/plain": [
              ""
            ]
          },
          "metadata": {
            "tags": []
          },
          "execution_count": 10
        }
      ]
    },
    {
      "cell_type": "code",
      "metadata": {
        "id": "PnRew_LJ2_Ap"
      },
      "source": [
        "import torchvision\n",
        "from torchvision.models.detection.faster_rcnn import FastRCNNPredictor\n",
        "\n",
        "\n",
        "      \n",
        "def get_object_detection_model(num_classes):\n",
        "    # load an instance segmentation model pre-trained on COCO\n",
        "    model = torchvision.models.detection.fasterrcnn_resnet50_fpn(pretrained=True,min_size=200)\n",
        "\n",
        "    # get the number of input features for the classifier\n",
        "    in_features = model.roi_heads.box_predictor.cls_score.in_features\n",
        "    # replace the pre-trained head with a new one\n",
        "    model.roi_heads.box_predictor = FastRCNNPredictor(in_features, num_classes)\n",
        "\n",
        "    return model"
      ],
      "execution_count": 11,
      "outputs": []
    },
    {
      "cell_type": "code",
      "metadata": {
        "id": "GCHg_HB5xmWF"
      },
      "source": [
        "#!pip install albumentations==0.4.6\n",
        "import albumentations \n",
        "from engine import train_one_epoch, evaluate\n",
        "import utils\n",
        "import transforms as T\n",
        "import albumentations as A\n",
        "\n",
        "\n",
        "def get_transform(train):\n",
        "    transforms = []\n",
        "    # converts the image, a PIL image, into a PyTorch Tensor\n",
        "    transforms.append(T.ToTensor())\n",
        "    if train:\n",
        "        # during training, randomly flip the training images\n",
        "        # and ground-truth for data augmentation\n",
        "        #transforms.append(A.Flip(0.5),)\n",
        "      \n",
        "        transforms.append(T.RandomHorizontalFlip(0.7))\n",
        "       \n",
        "    return T.Compose(transforms)\n",
        "   "
      ],
      "execution_count": 12,
      "outputs": []
    },
    {
      "cell_type": "code",
      "metadata": {
        "colab": {
          "base_uri": "https://localhost:8080/"
        },
        "id": "09qt72b0i6oA",
        "outputId": "b171da93-24d9-43b4-a92c-7b8f4c0a4d3b"
      },
      "source": [
        "print(T.Compose)"
      ],
      "execution_count": null,
      "outputs": [
        {
          "output_type": "stream",
          "text": [
            "<class 'transforms.Compose'>\n"
          ],
          "name": "stdout"
        }
      ]
    },
    {
      "cell_type": "code",
      "metadata": {
        "colab": {
          "base_uri": "https://localhost:8080/"
        },
        "id": "p68ssdP2xp10",
        "outputId": "891050ed-2aec-493c-9121-22947afaa3f8"
      },
      "source": [
        "\n",
        "dataset_train = dataset(train_img,df, train_label,get_transform(train=True))\n",
        "dataset_val = dataset(train_img,df, train_label,get_transform(train=False))\n",
        "\n",
        "for i in range(10):\n",
        "  img,target=dataset_train[i]\n",
        "  print(target)\n",
        "print(type(target['boxes']))"
      ],
      "execution_count": 13,
      "outputs": [
        {
          "output_type": "stream",
          "text": [
            "{'boxes': tensor([[ 73.,   1., 223., 151.]], dtype=torch.float16), 'labels': tensor([0]), 'image_id': tensor([0]), 'area': tensor([22500.]), 'iscrowd': tensor([0], dtype=torch.uint8)}\n",
            "{'boxes': tensor([[ 73.,   1., 223., 151.]], dtype=torch.float16), 'labels': tensor([0]), 'image_id': tensor([1]), 'area': tensor([22500.]), 'iscrowd': tensor([0], dtype=torch.uint8)}\n",
            "{'boxes': tensor([[  1.,   1., 151., 151.]], dtype=torch.float16), 'labels': tensor([0]), 'image_id': tensor([2]), 'area': tensor([22500.]), 'iscrowd': tensor([0], dtype=torch.uint8)}\n",
            "{'boxes': tensor([[ 73.,   1., 223., 151.]], dtype=torch.float16), 'labels': tensor([0]), 'image_id': tensor([3]), 'area': tensor([22500.]), 'iscrowd': tensor([0], dtype=torch.uint8)}\n",
            "{'boxes': tensor([[119.6875,  33.2500, 166.2500, 116.1875],\n",
            "        [ 45.0000,  33.2500, 101.0625, 132.3750]], dtype=torch.float16), 'labels': tensor([1, 1]), 'image_id': tensor([4]), 'area': tensor([3862.7769, 5549.0400]), 'iscrowd': tensor([0, 0], dtype=torch.uint8)}\n",
            "{'boxes': tensor([[ 73.,   1., 223., 151.]], dtype=torch.float16), 'labels': tensor([0]), 'image_id': tensor([5]), 'area': tensor([22500.]), 'iscrowd': tensor([0], dtype=torch.uint8)}\n",
            "{'boxes': tensor([[ 73.,   1., 223., 151.]], dtype=torch.float16), 'labels': tensor([0]), 'image_id': tensor([6]), 'area': tensor([22500.]), 'iscrowd': tensor([0], dtype=torch.uint8)}\n",
            "{'boxes': tensor([[118.3125, 126.2500, 153.2500, 149.0000],\n",
            "        [ 36.5000, 125.7500,  72.0000, 155.7500]], dtype=torch.float16), 'labels': tensor([1, 1]), 'image_id': tensor([7]), 'area': tensor([ 796.2500, 1062.1368]), 'iscrowd': tensor([0, 0], dtype=torch.uint8)}\n",
            "{'boxes': tensor([[ 73.,   1., 223., 151.]], dtype=torch.float16), 'labels': tensor([0]), 'image_id': tensor([8]), 'area': tensor([22500.]), 'iscrowd': tensor([0], dtype=torch.uint8)}\n",
            "{'boxes': tensor([[ 73.,   1., 223., 151.]], dtype=torch.float16), 'labels': tensor([0]), 'image_id': tensor([9]), 'area': tensor([22500.]), 'iscrowd': tensor([0], dtype=torch.uint8)}\n",
            "<class 'torch.Tensor'>\n"
          ],
          "name": "stdout"
        }
      ]
    },
    {
      "cell_type": "code",
      "metadata": {
        "colab": {
          "base_uri": "https://localhost:8080/"
        },
        "id": "D_o29emNUUaM",
        "outputId": "42adf3d8-db81-4708-b710-4d698235dcb3"
      },
      "source": [
        "dataset_train[21165]"
      ],
      "execution_count": 19,
      "outputs": [
        {
          "output_type": "execute_result",
          "data": {
            "text/plain": [
              "(tensor([[[0.0078, 0.0078, 0.0078,  ..., 0.0157, 0.0118, 0.0078],\n",
              "          [0.0078, 0.0078, 0.0078,  ..., 0.0196, 0.0157, 0.0118],\n",
              "          [0.0078, 0.0078, 0.0078,  ..., 0.0235, 0.0196, 0.0118],\n",
              "          ...,\n",
              "          [0.6863, 0.7020, 0.7176,  ..., 0.7294, 0.7216, 0.5098],\n",
              "          [0.6980, 0.7176, 0.7373,  ..., 0.7373, 0.7373, 0.5216],\n",
              "          [0.5804, 0.6000, 0.6196,  ..., 0.6039, 0.5961, 0.4235]]]),\n",
              " {'area': tensor([22500.]),\n",
              "  'boxes': tensor([[ 73.,   1., 223., 151.]], dtype=torch.float16),\n",
              "  'image_id': tensor([21165]),\n",
              "  'iscrowd': tensor([0], dtype=torch.uint8),\n",
              "  'labels': tensor([0])})"
            ]
          },
          "metadata": {
            "tags": []
          },
          "execution_count": 19
        }
      ]
    },
    {
      "cell_type": "code",
      "metadata": {
        "colab": {
          "base_uri": "https://localhost:8080/"
        },
        "id": "ajdnWymWK3kE",
        "outputId": "7adbe220-3ab1-450e-d906-e83eeb08095d"
      },
      "source": [
        "# split the dataset in train and test set\n",
        "torch.manual_seed(1)\n",
        "indices = torch.randperm(len(dataset_train)).tolist()\n",
        "dataset_train = torch.utils.data.Subset(dataset_train, indices[:-4233])\n",
        "dataset_val = torch.utils.data.Subset(dataset_val, indices[-4233:])\n",
        "\n",
        "# define training and validation data loaders\n",
        "data_loader_train = torch.utils.data.DataLoader(\n",
        "    dataset_train, batch_size=8, shuffle=True, num_workers=16,\n",
        "    collate_fn=utils.collate_fn \n",
        "    )\n",
        "\n",
        "data_loader_val = torch.utils.data.DataLoader(\n",
        "    dataset_val, batch_size=8, shuffle=False, num_workers=32,\n",
        "    collate_fn=utils.collate_fn\n",
        "    )\n",
        "\n",
        "  "
      ],
      "execution_count": 14,
      "outputs": [
        {
          "output_type": "stream",
          "text": [
            "/usr/local/lib/python3.7/dist-packages/torch/utils/data/dataloader.py:481: UserWarning: This DataLoader will create 16 worker processes in total. Our suggested max number of worker in current system is 2, which is smaller than what this DataLoader is going to create. Please be aware that excessive worker creation might get DataLoader running slow or even freeze, lower the worker number to avoid potential slowness/freeze if necessary.\n",
            "  cpuset_checked))\n",
            "/usr/local/lib/python3.7/dist-packages/torch/utils/data/dataloader.py:481: UserWarning: This DataLoader will create 32 worker processes in total. Our suggested max number of worker in current system is 2, which is smaller than what this DataLoader is going to create. Please be aware that excessive worker creation might get DataLoader running slow or even freeze, lower the worker number to avoid potential slowness/freeze if necessary.\n",
            "  cpuset_checked))\n"
          ],
          "name": "stderr"
        }
      ]
    },
    {
      "cell_type": "code",
      "metadata": {
        "id": "rRrXx2qxK4Il",
        "colab": {
          "base_uri": "https://localhost:8080/",
          "height": 82,
          "referenced_widgets": [
            "ff9c20c7f2184dc093bf4b60bc37bb19",
            "c9cfa12e8f874a43ac6bf7b228c6b194",
            "3a86d6ff561342a9a5fb6447c7e21dd3",
            "1c4546ae9b3545a3998d22534f57ef37",
            "b04d48dccb4244289e4f8a5e8e0d5273",
            "8d39d78924fd4c2cbc2c811b92b9d957",
            "8da5111c0dec44cfbdf10b6c7a6617e9",
            "f8302d55b1f546d1b0390e6253d4e7f3"
          ]
        },
        "outputId": "1dbe6b3c-d0d5-4665-d6af-8384a5090bf5"
      },
      "source": [
        "device = torch.device('cuda') if torch.cuda.is_available() else torch.device('cpu')\n",
        "\n",
        "# our dataset has two classes only - background and person\n",
        "num_classes = 2\n",
        "\n",
        "# get the model using our helper function\n",
        "model = get_object_detection_model(num_classes)\n",
        "# move model to the right device\n",
        "model.to(device)\n",
        "\n",
        "# construct an optimizer\n",
        "params = [p for p in model.parameters() if p.requires_grad]\n",
        "optimizer = torch.optim.Adam(params, lr=0.00005,\n",
        "                             weight_decay=0.0005)\n",
        "\n",
        "# and a learning rate scheduler which decreases the learning rate by\n",
        "# 10x every 3 epochs\n",
        "lr_scheduler = torch.optim.lr_scheduler.StepLR(optimizer,\n",
        "                                               step_size=3,\n",
        "                                               gamma=0.1)"
      ],
      "execution_count": 15,
      "outputs": [
        {
          "output_type": "stream",
          "text": [
            "Downloading: \"https://download.pytorch.org/models/fasterrcnn_resnet50_fpn_coco-258fb6c6.pth\" to /root/.cache/torch/hub/checkpoints/fasterrcnn_resnet50_fpn_coco-258fb6c6.pth\n"
          ],
          "name": "stderr"
        },
        {
          "output_type": "display_data",
          "data": {
            "application/vnd.jupyter.widget-view+json": {
              "model_id": "ff9c20c7f2184dc093bf4b60bc37bb19",
              "version_minor": 0,
              "version_major": 2
            },
            "text/plain": [
              "HBox(children=(FloatProgress(value=0.0, max=167502836.0), HTML(value='')))"
            ]
          },
          "metadata": {
            "tags": []
          }
        },
        {
          "output_type": "stream",
          "text": [
            "\n"
          ],
          "name": "stdout"
        }
      ]
    },
    {
      "cell_type": "code",
      "metadata": {
        "colab": {
          "background_save": true
        },
        "id": "2_H01aQNLHTc"
      },
      "source": [
        "'''\n",
        "# let's train it for 10 epochs\n",
        "num_epochs = 10\n",
        "\n",
        "for epoch in range(num_epochs):\n",
        "    # train for one epoch, printing every 10 iterations\n",
        "    train_one_epoch(model, optimizer, data_loader_train, device, epoch, print_freq=10)\n",
        "    # update the learning rate\n",
        "    lr_scheduler.step()\n",
        "    # evaluate on the test dataset\n",
        "    evaluate(model, data_loader_val, device=device)\n",
        "'''"
      ],
      "execution_count": null,
      "outputs": []
    },
    {
      "cell_type": "code",
      "metadata": {
        "id": "0ZTeMHged_oR",
        "colab": {
          "base_uri": "https://localhost:8080/"
        },
        "outputId": "7849f817-ecb5-422a-adc6-b8cf344a6cb5"
      },
      "source": [
        "weight_path = SavePath+'/model_weight2.pth'\n",
        "model.load_state_dict(torch.load(weight_path))"
      ],
      "execution_count": 19,
      "outputs": [
        {
          "output_type": "execute_result",
          "data": {
            "text/plain": [
              "<All keys matched successfully>"
            ]
          },
          "metadata": {
            "tags": []
          },
          "execution_count": 19
        }
      ]
    },
    {
      "cell_type": "code",
      "metadata": {
        "id": "ihD7B2IyTcso",
        "colab": {
          "base_uri": "https://localhost:8080/"
        },
        "outputId": "7f6528c5-7a21-4d25-b5db-da2e427fad76"
      },
      "source": [
        "import time\n",
        "from tqdm import tqdm\n",
        "\n",
        "\n",
        "# 或者: from evaluate import evaluate\n",
        "#from tqdm.notebook import tqdm as tqdm\n",
        "criterion = nn.CrossEntropyLoss()\n",
        "valid_loss_min = np.Inf # track change in validation loss\n",
        "itr = 1\n",
        "num_epochs = 20\n",
        "total_train_loss = []\n",
        "total_valid_loss = []\n",
        "x_axis=[]\n",
        "y_axis_train=[]\n",
        "y_axis_validation=[]\n",
        "losses_value = 0\n",
        "\n",
        "for epoch in range(num_epochs):\n",
        "\n",
        "  start_time = time.time()\n",
        "  # plot \n",
        "  x_axis.append(epoch)\n",
        "  # train ------------------------------\n",
        "\n",
        "  model.train()\n",
        "  train_loss = []\n",
        " \n",
        "  pbar = tqdm(data_loader_train, desc='let\\'s train')\n",
        "  for images, targets in pbar:\n",
        "   \n",
        "    images = list(image.to(device) for image in images)\n",
        "    targets = [{k: v.to(device) for k, v in t.items()} for t in targets]\n",
        "    \n",
        "    loss_dict = model(images, targets)\n",
        "    losses = sum(loss for loss in loss_dict.values())\n",
        "    losses_value = losses.item()\n",
        "    train_loss.append(losses_value)\n",
        "\n",
        "    optimizer.zero_grad()\n",
        "    losses.backward()\n",
        "    optimizer.step()\n",
        "\n",
        "   \n",
        "\n",
        "    pbar.set_description(f\"Epoch: {epoch+1}, Batch: {itr}, Loss: {losses_value}\")\n",
        "    itr += 1\n",
        "\n",
        "  epoch_train_loss = np.mean(train_loss)\n",
        "  total_train_loss.append(epoch_train_loss)\n",
        "\n",
        "  # update the learning rate\n",
        "  if lr_scheduler is not None:\n",
        "    lr_scheduler.step()\n",
        " \n",
        "\n",
        "  # valid ------------------------------\n",
        " \n",
        "  with torch.no_grad():\n",
        "    valid_loss = []\n",
        "\n",
        "    for images, targets in tqdm(data_loader_val):\n",
        "      images = list(image.to(device) for image in images)\n",
        "      targets = [{k: v.to(device) for k, v in t.items()} for t in targets]\n",
        "\n",
        "      loss_dict = model(images, targets)\n",
        "\n",
        "      losses = sum(loss for loss in loss_dict.values())\n",
        "      loss_value = losses.item()\n",
        "      valid_loss.append(loss_value)\n",
        "\n",
        "      \n",
        "\n",
        "  epoch_valid_loss = np.mean(valid_loss)\n",
        "  total_valid_loss.append(epoch_valid_loss)\n",
        "\n",
        "  if epoch_valid_loss <= valid_loss_min:\n",
        "      print('Validation loss decreased ({:.6f} --> {:.6f}).  Saving model ...'.format(\n",
        "      valid_loss_min,\n",
        "      epoch_valid_loss))\n",
        "      torch.save(model.state_dict(), SavePath+'/model_weight2.pth')\n",
        "      valid_loss_min = epoch_valid_loss\n",
        "  \n",
        "  #plot loss\n",
        "  y_axis_train.append(epoch_train_loss)\n",
        "  y_axis_validation.append(epoch_valid_loss)\n",
        "  # print ------------------------------\n",
        "  evaluate (model, data_loader_val,device=device)\n",
        "  \n",
        "  print(f\"Epoch Completed: {epoch+1}/{num_epochs}, Time: {time.time()-start_time}, \"\n",
        "     f\"Train Loss: {epoch_train_loss}, Valid Loss: {epoch_valid_loss}\")\n",
        "\n",
        "#plot\n",
        "data_1,=plt.plot(x_axis,y_axis_train,'r-.^',label='train')\n",
        "data_2,=plt.plot(x_axis,y_axis_validation,'g--*',label='validation')\n",
        "plt.tick_params(axis='both',labelsize=24,color='green')\n",
        "plt.legend(handles=[data_1,data_2])\n",
        "  \n",
        "\n"
      ],
      "execution_count": null,
      "outputs": [
        {
          "output_type": "stream",
          "text": [
            "\rlet's train:   0%|          | 0/2117 [00:00<?, ?it/s]/usr/local/lib/python3.7/dist-packages/torch/utils/data/dataloader.py:481: UserWarning: This DataLoader will create 16 worker processes in total. Our suggested max number of worker in current system is 2, which is smaller than what this DataLoader is going to create. Please be aware that excessive worker creation might get DataLoader running slow or even freeze, lower the worker number to avoid potential slowness/freeze if necessary.\n",
            "  cpuset_checked))\n",
            "Epoch: 1, Batch: 2117, Loss: 0.04910944402217865: 100%|██████████| 2117/2117 [11:52<00:00,  2.97it/s]\n",
            "  0%|          | 0/530 [00:00<?, ?it/s]/usr/local/lib/python3.7/dist-packages/torch/utils/data/dataloader.py:481: UserWarning: This DataLoader will create 32 worker processes in total. Our suggested max number of worker in current system is 2, which is smaller than what this DataLoader is going to create. Please be aware that excessive worker creation might get DataLoader running slow or even freeze, lower the worker number to avoid potential slowness/freeze if necessary.\n",
            "  cpuset_checked))\n",
            "100%|██████████| 530/530 [01:28<00:00,  6.00it/s]\n"
          ],
          "name": "stderr"
        },
        {
          "output_type": "stream",
          "text": [
            "Validation loss decreased (inf --> 0.078360).  Saving model ...\n",
            "creating index...\n",
            "index created!\n",
            "Test:  [  0/530]  eta: 0:17:45  model_time: 0.3268 (0.3268)  evaluator_time: 0.0676 (0.0676)  time: 2.0101  data: 1.6029  max mem: 1449\n",
            "Test:  [100/530]  eta: 0:01:40  model_time: 0.1642 (0.1689)  evaluator_time: 0.0100 (0.0124)  time: 0.2061  data: 0.0293  max mem: 1449\n",
            "Test:  [200/530]  eta: 0:01:10  model_time: 0.1574 (0.1647)  evaluator_time: 0.0101 (0.0114)  time: 0.1858  data: 0.0158  max mem: 1449\n",
            "Test:  [300/530]  eta: 0:00:47  model_time: 0.1577 (0.1620)  evaluator_time: 0.0101 (0.0110)  time: 0.1721  data: 0.0018  max mem: 1449\n",
            "Test:  [400/530]  eta: 0:00:26  model_time: 0.1550 (0.1602)  evaluator_time: 0.0094 (0.0108)  time: 0.1739  data: 0.0058  max mem: 1449\n",
            "Test:  [500/530]  eta: 0:00:06  model_time: 0.1548 (0.1592)  evaluator_time: 0.0102 (0.0107)  time: 0.2174  data: 0.0494  max mem: 1449\n",
            "Test:  [529/530]  eta: 0:00:00  model_time: 0.1582 (0.1589)  evaluator_time: 0.0100 (0.0107)  time: 0.1670  data: 0.0027  max mem: 1449\n",
            "Test: Total time: 0:01:46 (0.2006 s / it)\n",
            "Averaged stats: model_time: 0.1582 (0.1589)  evaluator_time: 0.0100 (0.0107)\n",
            "Accumulating evaluation results...\n"
          ],
          "name": "stdout"
        },
        {
          "output_type": "stream",
          "text": [
            "\rlet's train:   0%|          | 0/2117 [00:00<?, ?it/s]"
          ],
          "name": "stderr"
        },
        {
          "output_type": "stream",
          "text": [
            "DONE (t=0.74s).\n",
            "IoU metric: bbox\n",
            " Average Precision  (AP) @[ IoU=0.50:0.95 | area=   all | maxDets=100 ] = 0.062\n",
            " Average Precision  (AP) @[ IoU=0.50      | area=   all | maxDets=100 ] = 0.181\n",
            " Average Precision  (AP) @[ IoU=0.75      | area=   all | maxDets=100 ] = 0.024\n",
            " Average Precision  (AP) @[ IoU=0.50:0.95 | area= small | maxDets=100 ] = 0.011\n",
            " Average Precision  (AP) @[ IoU=0.50:0.95 | area=medium | maxDets=100 ] = 0.130\n",
            " Average Precision  (AP) @[ IoU=0.50:0.95 | area= large | maxDets=100 ] = 0.128\n",
            " Average Recall     (AR) @[ IoU=0.50:0.95 | area=   all | maxDets=  1 ] = 0.082\n",
            " Average Recall     (AR) @[ IoU=0.50:0.95 | area=   all | maxDets= 10 ] = 0.185\n",
            " Average Recall     (AR) @[ IoU=0.50:0.95 | area=   all | maxDets=100 ] = 0.186\n",
            " Average Recall     (AR) @[ IoU=0.50:0.95 | area= small | maxDets=100 ] = 0.056\n",
            " Average Recall     (AR) @[ IoU=0.50:0.95 | area=medium | maxDets=100 ] = 0.400\n",
            " Average Recall     (AR) @[ IoU=0.50:0.95 | area= large | maxDets=100 ] = 0.165\n",
            "Epoch Completed: 1/20, Time: 993.7895956039429, Train Loss: 0.07829591691675238, Valid Loss: 0.07836036534391273\n"
          ],
          "name": "stdout"
        },
        {
          "output_type": "stream",
          "text": [
            "Epoch: 2, Batch: 4234, Loss: 0.08586721122264862: 100%|██████████| 2117/2117 [11:52<00:00,  2.97it/s]\n",
            "100%|██████████| 530/530 [01:28<00:00,  6.01it/s]\n"
          ],
          "name": "stderr"
        },
        {
          "output_type": "stream",
          "text": [
            "creating index...\n",
            "index created!\n",
            "Test:  [  0/530]  eta: 0:24:12  model_time: 0.8311 (0.8311)  evaluator_time: 0.0365 (0.0365)  time: 2.7412  data: 1.8540  max mem: 1449\n",
            "Test:  [100/530]  eta: 0:01:40  model_time: 0.1605 (0.1675)  evaluator_time: 0.0101 (0.0113)  time: 0.2197  data: 0.0457  max mem: 1449\n",
            "Test:  [200/530]  eta: 0:01:11  model_time: 0.1595 (0.1648)  evaluator_time: 0.0103 (0.0109)  time: 0.1777  data: 0.0029  max mem: 1449\n",
            "Test:  [300/530]  eta: 0:00:47  model_time: 0.1567 (0.1623)  evaluator_time: 0.0104 (0.0107)  time: 0.1726  data: 0.0020  max mem: 1449\n",
            "Test:  [400/530]  eta: 0:00:26  model_time: 0.1543 (0.1606)  evaluator_time: 0.0097 (0.0106)  time: 0.1696  data: 0.0020  max mem: 1449\n",
            "Test:  [500/530]  eta: 0:00:06  model_time: 0.1548 (0.1594)  evaluator_time: 0.0106 (0.0106)  time: 0.1691  data: 0.0008  max mem: 1449\n",
            "Test:  [529/530]  eta: 0:00:00  model_time: 0.1486 (0.1587)  evaluator_time: 0.0098 (0.0105)  time: 0.1743  data: 0.0193  max mem: 1449\n",
            "Test: Total time: 0:01:46 (0.2000 s / it)\n",
            "Averaged stats: model_time: 0.1486 (0.1587)  evaluator_time: 0.0098 (0.0105)\n",
            "Accumulating evaluation results...\n"
          ],
          "name": "stdout"
        },
        {
          "output_type": "stream",
          "text": [
            "\rlet's train:   0%|          | 0/2117 [00:00<?, ?it/s]"
          ],
          "name": "stderr"
        },
        {
          "output_type": "stream",
          "text": [
            "DONE (t=0.72s).\n",
            "IoU metric: bbox\n",
            " Average Precision  (AP) @[ IoU=0.50:0.95 | area=   all | maxDets=100 ] = 0.062\n",
            " Average Precision  (AP) @[ IoU=0.50      | area=   all | maxDets=100 ] = 0.181\n",
            " Average Precision  (AP) @[ IoU=0.75      | area=   all | maxDets=100 ] = 0.024\n",
            " Average Precision  (AP) @[ IoU=0.50:0.95 | area= small | maxDets=100 ] = 0.012\n",
            " Average Precision  (AP) @[ IoU=0.50:0.95 | area=medium | maxDets=100 ] = 0.129\n",
            " Average Precision  (AP) @[ IoU=0.50:0.95 | area= large | maxDets=100 ] = 0.128\n",
            " Average Recall     (AR) @[ IoU=0.50:0.95 | area=   all | maxDets=  1 ] = 0.081\n",
            " Average Recall     (AR) @[ IoU=0.50:0.95 | area=   all | maxDets= 10 ] = 0.185\n",
            " Average Recall     (AR) @[ IoU=0.50:0.95 | area=   all | maxDets=100 ] = 0.185\n",
            " Average Recall     (AR) @[ IoU=0.50:0.95 | area= small | maxDets=100 ] = 0.055\n",
            " Average Recall     (AR) @[ IoU=0.50:0.95 | area=medium | maxDets=100 ] = 0.400\n",
            " Average Recall     (AR) @[ IoU=0.50:0.95 | area= large | maxDets=100 ] = 0.164\n",
            "Epoch Completed: 2/20, Time: 991.7426481246948, Train Loss: 0.07846551394078179, Valid Loss: 0.07842510077742122\n"
          ],
          "name": "stdout"
        },
        {
          "output_type": "stream",
          "text": [
            "Epoch: 3, Batch: 6351, Loss: 0.11569096893072128: 100%|██████████| 2117/2117 [11:54<00:00,  2.96it/s]\n",
            "100%|██████████| 530/530 [01:28<00:00,  5.98it/s]\n"
          ],
          "name": "stderr"
        },
        {
          "output_type": "stream",
          "text": [
            "creating index...\n",
            "index created!\n",
            "Test:  [  0/530]  eta: 0:20:32  model_time: 0.3394 (0.3394)  evaluator_time: 0.1469 (0.1469)  time: 2.3264  data: 1.8361  max mem: 1449\n",
            "Test:  [100/530]  eta: 0:01:40  model_time: 0.1667 (0.1698)  evaluator_time: 0.0099 (0.0144)  time: 0.1909  data: 0.0125  max mem: 1449\n",
            "Test:  [200/530]  eta: 0:01:11  model_time: 0.1577 (0.1655)  evaluator_time: 0.0102 (0.0125)  time: 0.1768  data: 0.0039  max mem: 1449\n",
            "Test:  [300/530]  eta: 0:00:47  model_time: 0.1511 (0.1619)  evaluator_time: 0.0096 (0.0117)  time: 0.1763  data: 0.0116  max mem: 1449\n",
            "Test:  [400/530]  eta: 0:00:26  model_time: 0.1554 (0.1598)  evaluator_time: 0.0093 (0.0117)  time: 0.2069  data: 0.0387  max mem: 1449\n",
            "Test:  [500/530]  eta: 0:00:06  model_time: 0.1560 (0.1589)  evaluator_time: 0.0105 (0.0114)  time: 0.1819  data: 0.0132  max mem: 1449\n",
            "Test:  [529/530]  eta: 0:00:00  model_time: 0.1564 (0.1586)  evaluator_time: 0.0096 (0.0113)  time: 0.1669  data: 0.0048  max mem: 1449\n",
            "Test: Total time: 0:01:46 (0.2005 s / it)\n",
            "Averaged stats: model_time: 0.1564 (0.1586)  evaluator_time: 0.0096 (0.0113)\n",
            "Accumulating evaluation results...\n"
          ],
          "name": "stdout"
        },
        {
          "output_type": "stream",
          "text": [
            "\rlet's train:   0%|          | 0/2117 [00:00<?, ?it/s]"
          ],
          "name": "stderr"
        },
        {
          "output_type": "stream",
          "text": [
            "DONE (t=0.69s).\n",
            "IoU metric: bbox\n",
            " Average Precision  (AP) @[ IoU=0.50:0.95 | area=   all | maxDets=100 ] = 0.062\n",
            " Average Precision  (AP) @[ IoU=0.50      | area=   all | maxDets=100 ] = 0.181\n",
            " Average Precision  (AP) @[ IoU=0.75      | area=   all | maxDets=100 ] = 0.024\n",
            " Average Precision  (AP) @[ IoU=0.50:0.95 | area= small | maxDets=100 ] = 0.012\n",
            " Average Precision  (AP) @[ IoU=0.50:0.95 | area=medium | maxDets=100 ] = 0.129\n",
            " Average Precision  (AP) @[ IoU=0.50:0.95 | area= large | maxDets=100 ] = 0.128\n",
            " Average Recall     (AR) @[ IoU=0.50:0.95 | area=   all | maxDets=  1 ] = 0.081\n",
            " Average Recall     (AR) @[ IoU=0.50:0.95 | area=   all | maxDets= 10 ] = 0.185\n",
            " Average Recall     (AR) @[ IoU=0.50:0.95 | area=   all | maxDets=100 ] = 0.185\n",
            " Average Recall     (AR) @[ IoU=0.50:0.95 | area= small | maxDets=100 ] = 0.055\n",
            " Average Recall     (AR) @[ IoU=0.50:0.95 | area=medium | maxDets=100 ] = 0.400\n",
            " Average Recall     (AR) @[ IoU=0.50:0.95 | area= large | maxDets=100 ] = 0.164\n",
            "Epoch Completed: 3/20, Time: 996.2273404598236, Train Loss: 0.07841869390017081, Valid Loss: 0.07838410221365333\n"
          ],
          "name": "stdout"
        },
        {
          "output_type": "stream",
          "text": [
            "Epoch: 4, Batch: 8468, Loss: 0.12164024263620377: 100%|██████████| 2117/2117 [11:53<00:00,  2.97it/s]\n",
            "100%|██████████| 530/530 [01:27<00:00,  6.03it/s]\n"
          ],
          "name": "stderr"
        },
        {
          "output_type": "stream",
          "text": [
            "creating index...\n",
            "index created!\n",
            "Test:  [  0/530]  eta: 0:25:25  model_time: 0.8471 (0.8471)  evaluator_time: 0.2043 (0.2043)  time: 2.8788  data: 1.8171  max mem: 1449\n",
            "Test:  [100/530]  eta: 0:01:39  model_time: 0.1642 (0.1711)  evaluator_time: 0.0100 (0.0125)  time: 0.1970  data: 0.0200  max mem: 1449\n",
            "Test:  [200/530]  eta: 0:01:10  model_time: 0.1567 (0.1656)  evaluator_time: 0.0102 (0.0114)  time: 0.1915  data: 0.0195  max mem: 1449\n",
            "Test:  [300/530]  eta: 0:00:47  model_time: 0.1515 (0.1631)  evaluator_time: 0.0100 (0.0110)  time: 0.1888  data: 0.0248  max mem: 1449\n",
            "Test:  [400/530]  eta: 0:00:26  model_time: 0.1549 (0.1610)  evaluator_time: 0.0097 (0.0108)  time: 0.2039  data: 0.0353  max mem: 1449\n",
            "Test:  [500/530]  eta: 0:00:06  model_time: 0.1549 (0.1600)  evaluator_time: 0.0108 (0.0107)  time: 0.1698  data: 0.0007  max mem: 1449\n",
            "Test:  [529/530]  eta: 0:00:00  model_time: 0.1548 (0.1595)  evaluator_time: 0.0099 (0.0107)  time: 0.1781  data: 0.0175  max mem: 1449\n",
            "Test: Total time: 0:01:46 (0.2005 s / it)\n",
            "Averaged stats: model_time: 0.1548 (0.1595)  evaluator_time: 0.0099 (0.0107)\n",
            "Accumulating evaluation results...\n"
          ],
          "name": "stdout"
        },
        {
          "output_type": "stream",
          "text": [
            "\rlet's train:   0%|          | 0/2117 [00:00<?, ?it/s]"
          ],
          "name": "stderr"
        },
        {
          "output_type": "stream",
          "text": [
            "DONE (t=0.70s).\n",
            "IoU metric: bbox\n",
            " Average Precision  (AP) @[ IoU=0.50:0.95 | area=   all | maxDets=100 ] = 0.062\n",
            " Average Precision  (AP) @[ IoU=0.50      | area=   all | maxDets=100 ] = 0.182\n",
            " Average Precision  (AP) @[ IoU=0.75      | area=   all | maxDets=100 ] = 0.024\n",
            " Average Precision  (AP) @[ IoU=0.50:0.95 | area= small | maxDets=100 ] = 0.012\n",
            " Average Precision  (AP) @[ IoU=0.50:0.95 | area=medium | maxDets=100 ] = 0.129\n",
            " Average Precision  (AP) @[ IoU=0.50:0.95 | area= large | maxDets=100 ] = 0.129\n",
            " Average Recall     (AR) @[ IoU=0.50:0.95 | area=   all | maxDets=  1 ] = 0.081\n",
            " Average Recall     (AR) @[ IoU=0.50:0.95 | area=   all | maxDets= 10 ] = 0.185\n",
            " Average Recall     (AR) @[ IoU=0.50:0.95 | area=   all | maxDets=100 ] = 0.185\n",
            " Average Recall     (AR) @[ IoU=0.50:0.95 | area= small | maxDets=100 ] = 0.055\n",
            " Average Recall     (AR) @[ IoU=0.50:0.95 | area=medium | maxDets=100 ] = 0.400\n",
            " Average Recall     (AR) @[ IoU=0.50:0.95 | area= large | maxDets=100 ] = 0.160\n",
            "Epoch Completed: 4/20, Time: 992.5827088356018, Train Loss: 0.07839894496004748, Valid Loss: 0.07844706111135102\n"
          ],
          "name": "stdout"
        },
        {
          "output_type": "stream",
          "text": [
            "Epoch: 5, Batch: 10585, Loss: 0.1547766774892807: 100%|██████████| 2117/2117 [11:52<00:00,  2.97it/s]\n",
            "100%|██████████| 530/530 [01:28<00:00,  6.00it/s]\n"
          ],
          "name": "stderr"
        },
        {
          "output_type": "stream",
          "text": [
            "creating index...\n",
            "index created!\n",
            "Test:  [  0/530]  eta: 0:19:37  model_time: 0.4971 (0.4971)  evaluator_time: 0.0272 (0.0272)  time: 2.2215  data: 1.6907  max mem: 1449\n",
            "Test:  [100/530]  eta: 0:01:41  model_time: 0.1674 (0.1730)  evaluator_time: 0.0106 (0.0113)  time: 0.1818  data: 0.0007  max mem: 1449\n",
            "Test:  [200/530]  eta: 0:01:10  model_time: 0.1574 (0.1666)  evaluator_time: 0.0106 (0.0110)  time: 0.1789  data: 0.0072  max mem: 1449\n",
            "Test:  [300/530]  eta: 0:00:47  model_time: 0.1546 (0.1627)  evaluator_time: 0.0103 (0.0109)  time: 0.2114  data: 0.0413  max mem: 1449\n",
            "Test:  [400/530]  eta: 0:00:26  model_time: 0.1559 (0.1609)  evaluator_time: 0.0096 (0.0112)  time: 0.1806  data: 0.0111  max mem: 1449\n",
            "Test:  [500/530]  eta: 0:00:06  model_time: 0.1560 (0.1599)  evaluator_time: 0.0109 (0.0111)  time: 0.1952  data: 0.0254  max mem: 1449\n",
            "Test:  [529/530]  eta: 0:00:00  model_time: 0.1551 (0.1595)  evaluator_time: 0.0098 (0.0111)  time: 0.1695  data: 0.0079  max mem: 1449\n",
            "Test: Total time: 0:01:46 (0.2011 s / it)\n",
            "Averaged stats: model_time: 0.1551 (0.1595)  evaluator_time: 0.0098 (0.0111)\n",
            "Accumulating evaluation results...\n"
          ],
          "name": "stdout"
        },
        {
          "output_type": "stream",
          "text": [
            "\rlet's train:   0%|          | 0/2117 [00:00<?, ?it/s]"
          ],
          "name": "stderr"
        },
        {
          "output_type": "stream",
          "text": [
            "DONE (t=0.69s).\n",
            "IoU metric: bbox\n",
            " Average Precision  (AP) @[ IoU=0.50:0.95 | area=   all | maxDets=100 ] = 0.062\n",
            " Average Precision  (AP) @[ IoU=0.50      | area=   all | maxDets=100 ] = 0.182\n",
            " Average Precision  (AP) @[ IoU=0.75      | area=   all | maxDets=100 ] = 0.024\n",
            " Average Precision  (AP) @[ IoU=0.50:0.95 | area= small | maxDets=100 ] = 0.012\n",
            " Average Precision  (AP) @[ IoU=0.50:0.95 | area=medium | maxDets=100 ] = 0.130\n",
            " Average Precision  (AP) @[ IoU=0.50:0.95 | area= large | maxDets=100 ] = 0.129\n",
            " Average Recall     (AR) @[ IoU=0.50:0.95 | area=   all | maxDets=  1 ] = 0.082\n",
            " Average Recall     (AR) @[ IoU=0.50:0.95 | area=   all | maxDets= 10 ] = 0.185\n",
            " Average Recall     (AR) @[ IoU=0.50:0.95 | area=   all | maxDets=100 ] = 0.185\n",
            " Average Recall     (AR) @[ IoU=0.50:0.95 | area= small | maxDets=100 ] = 0.055\n",
            " Average Recall     (AR) @[ IoU=0.50:0.95 | area=medium | maxDets=100 ] = 0.400\n",
            " Average Recall     (AR) @[ IoU=0.50:0.95 | area= large | maxDets=100 ] = 0.161\n",
            "Epoch Completed: 5/20, Time: 992.5010101795197, Train Loss: 0.07827306658765992, Valid Loss: 0.07840020778580165\n"
          ],
          "name": "stdout"
        },
        {
          "output_type": "stream",
          "text": [
            "Epoch: 6, Batch: 12702, Loss: 0.18830996751785278: 100%|██████████| 2117/2117 [11:50<00:00,  2.98it/s]\n",
            "100%|██████████| 530/530 [01:28<00:00,  5.99it/s]\n"
          ],
          "name": "stderr"
        },
        {
          "output_type": "stream",
          "text": [
            "Validation loss decreased (0.078360 --> 0.078265).  Saving model ...\n",
            "creating index...\n",
            "index created!\n",
            "Test:  [  0/530]  eta: 0:19:47  model_time: 0.3441 (0.3441)  evaluator_time: 0.1172 (0.1172)  time: 2.2403  data: 1.7750  max mem: 1449\n",
            "Test:  [100/530]  eta: 0:01:34  model_time: 0.1506 (0.1526)  evaluator_time: 0.0097 (0.0116)  time: 0.1647  data: 0.0008  max mem: 1449\n",
            "Test:  [200/530]  eta: 0:01:07  model_time: 0.1567 (0.1536)  evaluator_time: 0.0102 (0.0109)  time: 0.1744  data: 0.0039  max mem: 1449\n",
            "Test:  [300/530]  eta: 0:00:46  model_time: 0.1621 (0.1562)  evaluator_time: 0.0099 (0.0107)  time: 0.2226  data: 0.0458  max mem: 1449\n",
            "Test:  [400/530]  eta: 0:00:26  model_time: 0.1580 (0.1570)  evaluator_time: 0.0097 (0.0106)  time: 0.2326  data: 0.0608  max mem: 1449\n",
            "Test:  [500/530]  eta: 0:00:05  model_time: 0.1561 (0.1568)  evaluator_time: 0.0103 (0.0105)  time: 0.1688  data: 0.0007  max mem: 1449\n",
            "Test:  [529/530]  eta: 0:00:00  model_time: 0.1533 (0.1564)  evaluator_time: 0.0099 (0.0105)  time: 0.1628  data: 0.0028  max mem: 1449\n",
            "Test: Total time: 0:01:45 (0.1988 s / it)\n",
            "Averaged stats: model_time: 0.1533 (0.1564)  evaluator_time: 0.0099 (0.0105)\n",
            "Accumulating evaluation results...\n"
          ],
          "name": "stdout"
        },
        {
          "output_type": "stream",
          "text": [
            "\rlet's train:   0%|          | 0/2117 [00:00<?, ?it/s]"
          ],
          "name": "stderr"
        },
        {
          "output_type": "stream",
          "text": [
            "DONE (t=0.72s).\n",
            "IoU metric: bbox\n",
            " Average Precision  (AP) @[ IoU=0.50:0.95 | area=   all | maxDets=100 ] = 0.062\n",
            " Average Precision  (AP) @[ IoU=0.50      | area=   all | maxDets=100 ] = 0.182\n",
            " Average Precision  (AP) @[ IoU=0.75      | area=   all | maxDets=100 ] = 0.024\n",
            " Average Precision  (AP) @[ IoU=0.50:0.95 | area= small | maxDets=100 ] = 0.012\n",
            " Average Precision  (AP) @[ IoU=0.50:0.95 | area=medium | maxDets=100 ] = 0.130\n",
            " Average Precision  (AP) @[ IoU=0.50:0.95 | area= large | maxDets=100 ] = 0.129\n",
            " Average Recall     (AR) @[ IoU=0.50:0.95 | area=   all | maxDets=  1 ] = 0.082\n",
            " Average Recall     (AR) @[ IoU=0.50:0.95 | area=   all | maxDets= 10 ] = 0.185\n",
            " Average Recall     (AR) @[ IoU=0.50:0.95 | area=   all | maxDets=100 ] = 0.185\n",
            " Average Recall     (AR) @[ IoU=0.50:0.95 | area= small | maxDets=100 ] = 0.055\n",
            " Average Recall     (AR) @[ IoU=0.50:0.95 | area=medium | maxDets=100 ] = 0.400\n",
            " Average Recall     (AR) @[ IoU=0.50:0.95 | area= large | maxDets=100 ] = 0.161\n",
            "Epoch Completed: 6/20, Time: 990.2647700309753, Train Loss: 0.07852421056848313, Valid Loss: 0.07826546612371392\n"
          ],
          "name": "stdout"
        },
        {
          "output_type": "stream",
          "text": [
            "Epoch: 7, Batch: 14819, Loss: 0.011717000044882298: 100%|██████████| 2117/2117 [11:51<00:00,  2.98it/s]\n",
            "100%|██████████| 530/530 [01:28<00:00,  5.97it/s]\n"
          ],
          "name": "stderr"
        },
        {
          "output_type": "stream",
          "text": [
            "creating index...\n",
            "index created!\n",
            "Test:  [  0/530]  eta: 0:19:08  model_time: 0.4937 (0.4937)  evaluator_time: 0.0352 (0.0352)  time: 2.1662  data: 1.6284  max mem: 1449\n",
            "Test:  [100/530]  eta: 0:01:41  model_time: 0.1519 (0.1638)  evaluator_time: 0.0110 (0.0122)  time: 0.2196  data: 0.0475  max mem: 1449\n",
            "Test:  [200/530]  eta: 0:01:12  model_time: 0.1548 (0.1623)  evaluator_time: 0.0103 (0.0122)  time: 0.1968  data: 0.0254  max mem: 1449\n",
            "Test:  [300/530]  eta: 0:00:48  model_time: 0.1557 (0.1600)  evaluator_time: 0.0105 (0.0121)  time: 0.1991  data: 0.0209  max mem: 1449\n",
            "Test:  [400/530]  eta: 0:00:26  model_time: 0.1573 (0.1592)  evaluator_time: 0.0096 (0.0117)  time: 0.2075  data: 0.0372  max mem: 1449\n",
            "Test:  [500/530]  eta: 0:00:06  model_time: 0.1562 (0.1588)  evaluator_time: 0.0107 (0.0115)  time: 0.1778  data: 0.0071  max mem: 1449\n",
            "Test:  [529/530]  eta: 0:00:00  model_time: 0.1561 (0.1584)  evaluator_time: 0.0099 (0.0114)  time: 0.1631  data: 0.0007  max mem: 1449\n",
            "Test: Total time: 0:01:47 (0.2029 s / it)\n",
            "Averaged stats: model_time: 0.1561 (0.1584)  evaluator_time: 0.0099 (0.0114)\n",
            "Accumulating evaluation results...\n"
          ],
          "name": "stdout"
        },
        {
          "output_type": "stream",
          "text": [
            "\rlet's train:   0%|          | 0/2117 [00:00<?, ?it/s]"
          ],
          "name": "stderr"
        },
        {
          "output_type": "stream",
          "text": [
            "DONE (t=0.74s).\n",
            "IoU metric: bbox\n",
            " Average Precision  (AP) @[ IoU=0.50:0.95 | area=   all | maxDets=100 ] = 0.062\n",
            " Average Precision  (AP) @[ IoU=0.50      | area=   all | maxDets=100 ] = 0.182\n",
            " Average Precision  (AP) @[ IoU=0.75      | area=   all | maxDets=100 ] = 0.024\n",
            " Average Precision  (AP) @[ IoU=0.50:0.95 | area= small | maxDets=100 ] = 0.012\n",
            " Average Precision  (AP) @[ IoU=0.50:0.95 | area=medium | maxDets=100 ] = 0.130\n",
            " Average Precision  (AP) @[ IoU=0.50:0.95 | area= large | maxDets=100 ] = 0.129\n",
            " Average Recall     (AR) @[ IoU=0.50:0.95 | area=   all | maxDets=  1 ] = 0.082\n",
            " Average Recall     (AR) @[ IoU=0.50:0.95 | area=   all | maxDets= 10 ] = 0.185\n",
            " Average Recall     (AR) @[ IoU=0.50:0.95 | area=   all | maxDets=100 ] = 0.185\n",
            " Average Recall     (AR) @[ IoU=0.50:0.95 | area= small | maxDets=100 ] = 0.055\n",
            " Average Recall     (AR) @[ IoU=0.50:0.95 | area=medium | maxDets=100 ] = 0.400\n",
            " Average Recall     (AR) @[ IoU=0.50:0.95 | area= large | maxDets=100 ] = 0.161\n",
            "Epoch Completed: 7/20, Time: 992.5682303905487, Train Loss: 0.07840210135247916, Valid Loss: 0.07828825649339706\n"
          ],
          "name": "stdout"
        },
        {
          "output_type": "stream",
          "text": [
            "Epoch: 8, Batch: 16936, Loss: 0.0092538483440876: 100%|██████████| 2117/2117 [11:51<00:00,  2.98it/s]\n",
            "100%|██████████| 530/530 [01:29<00:00,  5.95it/s]\n"
          ],
          "name": "stderr"
        },
        {
          "output_type": "stream",
          "text": [
            "creating index...\n",
            "index created!\n",
            "Test:  [  0/530]  eta: 0:26:29  model_time: 0.7727 (0.7727)  evaluator_time: 0.0582 (0.0582)  time: 2.9990  data: 2.1643  max mem: 1449\n",
            "Test:  [100/530]  eta: 0:01:37  model_time: 0.1534 (0.1611)  evaluator_time: 0.0103 (0.0130)  time: 0.1820  data: 0.0160  max mem: 1449\n",
            "Test:  [200/530]  eta: 0:01:09  model_time: 0.1524 (0.1571)  evaluator_time: 0.0104 (0.0118)  time: 0.2035  data: 0.0358  max mem: 1449\n",
            "Test:  [300/530]  eta: 0:00:46  model_time: 0.1562 (0.1567)  evaluator_time: 0.0104 (0.0115)  time: 0.1827  data: 0.0128  max mem: 1449\n",
            "Test:  [400/530]  eta: 0:00:26  model_time: 0.1556 (0.1567)  evaluator_time: 0.0096 (0.0116)  time: 0.2229  data: 0.0548  max mem: 1449\n",
            "Test:  [500/530]  eta: 0:00:05  model_time: 0.1547 (0.1569)  evaluator_time: 0.0104 (0.0114)  time: 0.1819  data: 0.0145  max mem: 1449\n",
            "Test:  [529/530]  eta: 0:00:00  model_time: 0.1505 (0.1563)  evaluator_time: 0.0100 (0.0113)  time: 0.1766  data: 0.0208  max mem: 1449\n",
            "Test: Total time: 0:01:45 (0.1989 s / it)\n",
            "Averaged stats: model_time: 0.1505 (0.1563)  evaluator_time: 0.0100 (0.0113)\n",
            "Accumulating evaluation results...\n"
          ],
          "name": "stdout"
        },
        {
          "output_type": "stream",
          "text": [
            "\rlet's train:   0%|          | 0/2117 [00:00<?, ?it/s]"
          ],
          "name": "stderr"
        },
        {
          "output_type": "stream",
          "text": [
            "DONE (t=0.73s).\n",
            "IoU metric: bbox\n",
            " Average Precision  (AP) @[ IoU=0.50:0.95 | area=   all | maxDets=100 ] = 0.062\n",
            " Average Precision  (AP) @[ IoU=0.50      | area=   all | maxDets=100 ] = 0.182\n",
            " Average Precision  (AP) @[ IoU=0.75      | area=   all | maxDets=100 ] = 0.024\n",
            " Average Precision  (AP) @[ IoU=0.50:0.95 | area= small | maxDets=100 ] = 0.012\n",
            " Average Precision  (AP) @[ IoU=0.50:0.95 | area=medium | maxDets=100 ] = 0.130\n",
            " Average Precision  (AP) @[ IoU=0.50:0.95 | area= large | maxDets=100 ] = 0.129\n",
            " Average Recall     (AR) @[ IoU=0.50:0.95 | area=   all | maxDets=  1 ] = 0.082\n",
            " Average Recall     (AR) @[ IoU=0.50:0.95 | area=   all | maxDets= 10 ] = 0.185\n",
            " Average Recall     (AR) @[ IoU=0.50:0.95 | area=   all | maxDets=100 ] = 0.185\n",
            " Average Recall     (AR) @[ IoU=0.50:0.95 | area= small | maxDets=100 ] = 0.055\n",
            " Average Recall     (AR) @[ IoU=0.50:0.95 | area=medium | maxDets=100 ] = 0.400\n",
            " Average Recall     (AR) @[ IoU=0.50:0.95 | area= large | maxDets=100 ] = 0.161\n",
            "Epoch Completed: 8/20, Time: 990.75670170784, Train Loss: 0.07835079516050128, Valid Loss: 0.07834922745779929\n"
          ],
          "name": "stdout"
        },
        {
          "output_type": "stream",
          "text": [
            "Epoch: 9, Batch: 19053, Loss: 0.07341428101062775: 100%|██████████| 2117/2117 [11:49<00:00,  2.98it/s]\n",
            "100%|██████████| 530/530 [01:28<00:00,  5.96it/s]\n"
          ],
          "name": "stderr"
        },
        {
          "output_type": "stream",
          "text": [
            "creating index...\n",
            "index created!\n",
            "Test:  [  0/530]  eta: 0:16:48  model_time: 0.2824 (0.2824)  evaluator_time: 0.0349 (0.0349)  time: 1.9027  data: 1.5776  max mem: 1449\n",
            "Test:  [100/530]  eta: 0:01:37  model_time: 0.1629 (0.1717)  evaluator_time: 0.0107 (0.0138)  time: 0.1902  data: 0.0128  max mem: 1449\n",
            "Test:  [200/530]  eta: 0:01:10  model_time: 0.1565 (0.1656)  evaluator_time: 0.0103 (0.0121)  time: 0.1936  data: 0.0233  max mem: 1449\n",
            "Test:  [300/530]  eta: 0:00:47  model_time: 0.1533 (0.1621)  evaluator_time: 0.0100 (0.0124)  time: 0.1884  data: 0.0211  max mem: 1449\n",
            "Test:  [400/530]  eta: 0:00:26  model_time: 0.1529 (0.1602)  evaluator_time: 0.0098 (0.0119)  time: 0.2290  data: 0.0607  max mem: 1449\n",
            "Test:  [500/530]  eta: 0:00:06  model_time: 0.1514 (0.1592)  evaluator_time: 0.0108 (0.0117)  time: 0.2144  data: 0.0480  max mem: 1449\n",
            "Test:  [529/530]  eta: 0:00:00  model_time: 0.1567 (0.1588)  evaluator_time: 0.0100 (0.0116)  time: 0.1663  data: 0.0030  max mem: 1449\n",
            "Test: Total time: 0:01:46 (0.2007 s / it)\n",
            "Averaged stats: model_time: 0.1567 (0.1588)  evaluator_time: 0.0100 (0.0116)\n",
            "Accumulating evaluation results...\n"
          ],
          "name": "stdout"
        },
        {
          "output_type": "stream",
          "text": [
            "\rlet's train:   0%|          | 0/2117 [00:00<?, ?it/s]"
          ],
          "name": "stderr"
        },
        {
          "output_type": "stream",
          "text": [
            "DONE (t=0.71s).\n",
            "IoU metric: bbox\n",
            " Average Precision  (AP) @[ IoU=0.50:0.95 | area=   all | maxDets=100 ] = 0.062\n",
            " Average Precision  (AP) @[ IoU=0.50      | area=   all | maxDets=100 ] = 0.182\n",
            " Average Precision  (AP) @[ IoU=0.75      | area=   all | maxDets=100 ] = 0.024\n",
            " Average Precision  (AP) @[ IoU=0.50:0.95 | area= small | maxDets=100 ] = 0.012\n",
            " Average Precision  (AP) @[ IoU=0.50:0.95 | area=medium | maxDets=100 ] = 0.130\n",
            " Average Precision  (AP) @[ IoU=0.50:0.95 | area= large | maxDets=100 ] = 0.129\n",
            " Average Recall     (AR) @[ IoU=0.50:0.95 | area=   all | maxDets=  1 ] = 0.082\n",
            " Average Recall     (AR) @[ IoU=0.50:0.95 | area=   all | maxDets= 10 ] = 0.185\n",
            " Average Recall     (AR) @[ IoU=0.50:0.95 | area=   all | maxDets=100 ] = 0.185\n",
            " Average Recall     (AR) @[ IoU=0.50:0.95 | area= small | maxDets=100 ] = 0.055\n",
            " Average Recall     (AR) @[ IoU=0.50:0.95 | area=medium | maxDets=100 ] = 0.400\n",
            " Average Recall     (AR) @[ IoU=0.50:0.95 | area= large | maxDets=100 ] = 0.161\n",
            "Epoch Completed: 9/20, Time: 989.9821667671204, Train Loss: 0.07844248000971435, Valid Loss: 0.0785169123693914\n"
          ],
          "name": "stdout"
        },
        {
          "output_type": "stream",
          "text": [
            "Epoch: 10, Batch: 21170, Loss: 0.23278671503067017: 100%|██████████| 2117/2117 [11:55<00:00,  2.96it/s]\n",
            "100%|██████████| 530/530 [01:29<00:00,  5.94it/s]\n"
          ],
          "name": "stderr"
        },
        {
          "output_type": "stream",
          "text": [
            "Validation loss decreased (0.078265 --> 0.078214).  Saving model ...\n",
            "creating index...\n",
            "index created!\n",
            "Test:  [  0/530]  eta: 0:28:17  model_time: 0.9120 (0.9120)  evaluator_time: 0.0792 (0.0792)  time: 3.2024  data: 2.2057  max mem: 1449\n",
            "Test:  [100/530]  eta: 0:01:41  model_time: 0.1649 (0.1724)  evaluator_time: 0.0103 (0.0122)  time: 0.1868  data: 0.0084  max mem: 1449\n",
            "Test:  [200/530]  eta: 0:01:12  model_time: 0.1571 (0.1665)  evaluator_time: 0.0105 (0.0114)  time: 0.2298  data: 0.0578  max mem: 1449\n",
            "Test:  [300/530]  eta: 0:00:48  model_time: 0.1528 (0.1632)  evaluator_time: 0.0101 (0.0112)  time: 0.1705  data: 0.0009  max mem: 1449\n",
            "Test:  [400/530]  eta: 0:00:26  model_time: 0.1540 (0.1610)  evaluator_time: 0.0100 (0.0110)  time: 0.1880  data: 0.0205  max mem: 1449\n",
            "Test:  [500/530]  eta: 0:00:06  model_time: 0.1553 (0.1601)  evaluator_time: 0.0107 (0.0110)  time: 0.1870  data: 0.0169  max mem: 1449\n",
            "Test:  [529/530]  eta: 0:00:00  model_time: 0.1582 (0.1598)  evaluator_time: 0.0102 (0.0109)  time: 0.1647  data: 0.0008  max mem: 1449\n",
            "Test: Total time: 0:01:47 (0.2025 s / it)\n",
            "Averaged stats: model_time: 0.1582 (0.1598)  evaluator_time: 0.0102 (0.0109)\n",
            "Accumulating evaluation results...\n"
          ],
          "name": "stdout"
        },
        {
          "output_type": "stream",
          "text": [
            "\rlet's train:   0%|          | 0/2117 [00:00<?, ?it/s]"
          ],
          "name": "stderr"
        },
        {
          "output_type": "stream",
          "text": [
            "DONE (t=0.72s).\n",
            "IoU metric: bbox\n",
            " Average Precision  (AP) @[ IoU=0.50:0.95 | area=   all | maxDets=100 ] = 0.062\n",
            " Average Precision  (AP) @[ IoU=0.50      | area=   all | maxDets=100 ] = 0.182\n",
            " Average Precision  (AP) @[ IoU=0.75      | area=   all | maxDets=100 ] = 0.024\n",
            " Average Precision  (AP) @[ IoU=0.50:0.95 | area= small | maxDets=100 ] = 0.012\n",
            " Average Precision  (AP) @[ IoU=0.50:0.95 | area=medium | maxDets=100 ] = 0.130\n",
            " Average Precision  (AP) @[ IoU=0.50:0.95 | area= large | maxDets=100 ] = 0.129\n",
            " Average Recall     (AR) @[ IoU=0.50:0.95 | area=   all | maxDets=  1 ] = 0.082\n",
            " Average Recall     (AR) @[ IoU=0.50:0.95 | area=   all | maxDets= 10 ] = 0.185\n",
            " Average Recall     (AR) @[ IoU=0.50:0.95 | area=   all | maxDets=100 ] = 0.185\n",
            " Average Recall     (AR) @[ IoU=0.50:0.95 | area= small | maxDets=100 ] = 0.055\n",
            " Average Recall     (AR) @[ IoU=0.50:0.95 | area=medium | maxDets=100 ] = 0.400\n",
            " Average Recall     (AR) @[ IoU=0.50:0.95 | area= large | maxDets=100 ] = 0.161\n",
            "Epoch Completed: 10/20, Time: 998.3643782138824, Train Loss: 0.07844015173110311, Valid Loss: 0.07821384987459992\n"
          ],
          "name": "stdout"
        },
        {
          "output_type": "stream",
          "text": [
            "Epoch: 11, Batch: 23287, Loss: 0.06981970369815826: 100%|██████████| 2117/2117 [11:55<00:00,  2.96it/s]\n",
            "100%|██████████| 530/530 [01:28<00:00,  5.96it/s]\n"
          ],
          "name": "stderr"
        },
        {
          "output_type": "stream",
          "text": [
            "creating index...\n",
            "index created!\n",
            "Test:  [  0/530]  eta: 0:26:19  model_time: 0.7746 (0.7746)  evaluator_time: 0.1180 (0.1180)  time: 2.9795  data: 2.0628  max mem: 1449\n",
            "Test:  [100/530]  eta: 0:01:40  model_time: 0.1680 (0.1720)  evaluator_time: 0.0106 (0.0120)  time: 0.1818  data: 0.0008  max mem: 1449\n",
            "Test:  [200/530]  eta: 0:01:11  model_time: 0.1582 (0.1664)  evaluator_time: 0.0105 (0.0122)  time: 0.1791  data: 0.0061  max mem: 1449\n",
            "Test:  [300/530]  eta: 0:00:48  model_time: 0.1524 (0.1627)  evaluator_time: 0.0099 (0.0117)  time: 0.2216  data: 0.0549  max mem: 1449\n",
            "Test:  [400/530]  eta: 0:00:26  model_time: 0.1563 (0.1607)  evaluator_time: 0.0098 (0.0113)  time: 0.1981  data: 0.0291  max mem: 1449\n",
            "Test:  [500/530]  eta: 0:00:06  model_time: 0.1509 (0.1597)  evaluator_time: 0.0102 (0.0112)  time: 0.2156  data: 0.0510  max mem: 1449\n",
            "Test:  [529/530]  eta: 0:00:00  model_time: 0.1576 (0.1594)  evaluator_time: 0.0102 (0.0111)  time: 0.1643  data: 0.0008  max mem: 1449\n",
            "Test: Total time: 0:01:46 (0.2017 s / it)\n",
            "Averaged stats: model_time: 0.1576 (0.1594)  evaluator_time: 0.0102 (0.0111)\n",
            "Accumulating evaluation results...\n"
          ],
          "name": "stdout"
        },
        {
          "output_type": "stream",
          "text": [
            "\rlet's train:   0%|          | 0/2117 [00:00<?, ?it/s]"
          ],
          "name": "stderr"
        },
        {
          "output_type": "stream",
          "text": [
            "DONE (t=0.68s).\n",
            "IoU metric: bbox\n",
            " Average Precision  (AP) @[ IoU=0.50:0.95 | area=   all | maxDets=100 ] = 0.062\n",
            " Average Precision  (AP) @[ IoU=0.50      | area=   all | maxDets=100 ] = 0.182\n",
            " Average Precision  (AP) @[ IoU=0.75      | area=   all | maxDets=100 ] = 0.024\n",
            " Average Precision  (AP) @[ IoU=0.50:0.95 | area= small | maxDets=100 ] = 0.012\n",
            " Average Precision  (AP) @[ IoU=0.50:0.95 | area=medium | maxDets=100 ] = 0.130\n",
            " Average Precision  (AP) @[ IoU=0.50:0.95 | area= large | maxDets=100 ] = 0.129\n",
            " Average Recall     (AR) @[ IoU=0.50:0.95 | area=   all | maxDets=  1 ] = 0.082\n",
            " Average Recall     (AR) @[ IoU=0.50:0.95 | area=   all | maxDets= 10 ] = 0.185\n",
            " Average Recall     (AR) @[ IoU=0.50:0.95 | area=   all | maxDets=100 ] = 0.185\n",
            " Average Recall     (AR) @[ IoU=0.50:0.95 | area= small | maxDets=100 ] = 0.055\n",
            " Average Recall     (AR) @[ IoU=0.50:0.95 | area=medium | maxDets=100 ] = 0.400\n",
            " Average Recall     (AR) @[ IoU=0.50:0.95 | area= large | maxDets=100 ] = 0.161\n",
            "Epoch Completed: 11/20, Time: 996.6841564178467, Train Loss: 0.07842454627414934, Valid Loss: 0.07851904234892847\n"
          ],
          "name": "stdout"
        },
        {
          "output_type": "stream",
          "text": [
            "Epoch: 12, Batch: 25404, Loss: 0.004066957626491785: 100%|██████████| 2117/2117 [11:51<00:00,  2.98it/s]\n",
            "100%|██████████| 530/530 [01:28<00:00,  5.97it/s]\n"
          ],
          "name": "stderr"
        },
        {
          "output_type": "stream",
          "text": [
            "creating index...\n",
            "index created!\n",
            "Test:  [  0/530]  eta: 0:20:18  model_time: 0.3761 (0.3761)  evaluator_time: 0.0418 (0.0418)  time: 2.2992  data: 1.8768  max mem: 1449\n",
            "Test:  [100/530]  eta: 0:01:39  model_time: 0.1639 (0.1668)  evaluator_time: 0.0101 (0.0122)  time: 0.1806  data: 0.0031  max mem: 1449\n",
            "Test:  [200/530]  eta: 0:01:11  model_time: 0.1620 (0.1647)  evaluator_time: 0.0106 (0.0113)  time: 0.1764  data: 0.0007  max mem: 1449\n",
            "Test:  [300/530]  eta: 0:00:48  model_time: 0.1566 (0.1624)  evaluator_time: 0.0104 (0.0111)  time: 0.1810  data: 0.0097  max mem: 1449\n",
            "Test:  [400/530]  eta: 0:00:26  model_time: 0.1556 (0.1605)  evaluator_time: 0.0096 (0.0109)  time: 0.1738  data: 0.0050  max mem: 1449\n",
            "Test:  [500/530]  eta: 0:00:06  model_time: 0.1571 (0.1595)  evaluator_time: 0.0105 (0.0112)  time: 0.1765  data: 0.0068  max mem: 1449\n",
            "Test:  [529/530]  eta: 0:00:00  model_time: 0.1547 (0.1591)  evaluator_time: 0.0100 (0.0111)  time: 0.1785  data: 0.0166  max mem: 1449\n",
            "Test: Total time: 0:01:46 (0.2018 s / it)\n",
            "Averaged stats: model_time: 0.1547 (0.1591)  evaluator_time: 0.0100 (0.0111)\n",
            "Accumulating evaluation results...\n"
          ],
          "name": "stdout"
        },
        {
          "output_type": "stream",
          "text": [
            "\rlet's train:   0%|          | 0/2117 [00:00<?, ?it/s]"
          ],
          "name": "stderr"
        },
        {
          "output_type": "stream",
          "text": [
            "DONE (t=0.77s).\n",
            "IoU metric: bbox\n",
            " Average Precision  (AP) @[ IoU=0.50:0.95 | area=   all | maxDets=100 ] = 0.062\n",
            " Average Precision  (AP) @[ IoU=0.50      | area=   all | maxDets=100 ] = 0.182\n",
            " Average Precision  (AP) @[ IoU=0.75      | area=   all | maxDets=100 ] = 0.024\n",
            " Average Precision  (AP) @[ IoU=0.50:0.95 | area= small | maxDets=100 ] = 0.012\n",
            " Average Precision  (AP) @[ IoU=0.50:0.95 | area=medium | maxDets=100 ] = 0.130\n",
            " Average Precision  (AP) @[ IoU=0.50:0.95 | area= large | maxDets=100 ] = 0.129\n",
            " Average Recall     (AR) @[ IoU=0.50:0.95 | area=   all | maxDets=  1 ] = 0.082\n",
            " Average Recall     (AR) @[ IoU=0.50:0.95 | area=   all | maxDets= 10 ] = 0.185\n",
            " Average Recall     (AR) @[ IoU=0.50:0.95 | area=   all | maxDets=100 ] = 0.185\n",
            " Average Recall     (AR) @[ IoU=0.50:0.95 | area= small | maxDets=100 ] = 0.055\n",
            " Average Recall     (AR) @[ IoU=0.50:0.95 | area=medium | maxDets=100 ] = 0.400\n",
            " Average Recall     (AR) @[ IoU=0.50:0.95 | area= large | maxDets=100 ] = 0.161\n",
            "Epoch Completed: 12/20, Time: 992.0621464252472, Train Loss: 0.07828719042015891, Valid Loss: 0.07840155044412415\n"
          ],
          "name": "stdout"
        },
        {
          "output_type": "stream",
          "text": [
            "Epoch: 13, Batch: 27521, Loss: 0.10040748119354248: 100%|██████████| 2117/2117 [11:49<00:00,  2.98it/s]\n",
            "100%|██████████| 530/530 [01:29<00:00,  5.94it/s]\n"
          ],
          "name": "stderr"
        },
        {
          "output_type": "stream",
          "text": [
            "creating index...\n",
            "index created!\n",
            "Test:  [  0/530]  eta: 0:24:25  model_time: 0.4571 (0.4571)  evaluator_time: 0.1469 (0.1469)  time: 2.7647  data: 2.1530  max mem: 1449\n",
            "Test:  [100/530]  eta: 0:01:46  model_time: 0.1650 (0.1738)  evaluator_time: 0.0103 (0.0164)  time: 0.1879  data: 0.0097  max mem: 1449\n",
            "Test:  [200/530]  eta: 0:01:14  model_time: 0.1576 (0.1697)  evaluator_time: 0.0103 (0.0138)  time: 0.1781  data: 0.0062  max mem: 1449\n",
            "Test:  [300/530]  eta: 0:00:49  model_time: 0.1554 (0.1653)  evaluator_time: 0.0102 (0.0127)  time: 0.1728  data: 0.0034  max mem: 1449\n",
            "Test:  [400/530]  eta: 0:00:27  model_time: 0.1537 (0.1631)  evaluator_time: 0.0098 (0.0121)  time: 0.1688  data: 0.0008  max mem: 1449\n",
            "Test:  [500/530]  eta: 0:00:06  model_time: 0.1555 (0.1616)  evaluator_time: 0.0111 (0.0118)  time: 0.1704  data: 0.0017  max mem: 1449\n",
            "Test:  [529/530]  eta: 0:00:00  model_time: 0.1563 (0.1611)  evaluator_time: 0.0102 (0.0117)  time: 0.1629  data: 0.0008  max mem: 1449\n",
            "Test: Total time: 0:01:49 (0.2062 s / it)\n",
            "Averaged stats: model_time: 0.1563 (0.1611)  evaluator_time: 0.0102 (0.0117)\n",
            "Accumulating evaluation results...\n"
          ],
          "name": "stdout"
        },
        {
          "output_type": "stream",
          "text": [
            "\rlet's train:   0%|          | 0/2117 [00:00<?, ?it/s]"
          ],
          "name": "stderr"
        },
        {
          "output_type": "stream",
          "text": [
            "DONE (t=0.67s).\n",
            "IoU metric: bbox\n",
            " Average Precision  (AP) @[ IoU=0.50:0.95 | area=   all | maxDets=100 ] = 0.062\n",
            " Average Precision  (AP) @[ IoU=0.50      | area=   all | maxDets=100 ] = 0.182\n",
            " Average Precision  (AP) @[ IoU=0.75      | area=   all | maxDets=100 ] = 0.024\n",
            " Average Precision  (AP) @[ IoU=0.50:0.95 | area= small | maxDets=100 ] = 0.012\n",
            " Average Precision  (AP) @[ IoU=0.50:0.95 | area=medium | maxDets=100 ] = 0.130\n",
            " Average Precision  (AP) @[ IoU=0.50:0.95 | area= large | maxDets=100 ] = 0.129\n",
            " Average Recall     (AR) @[ IoU=0.50:0.95 | area=   all | maxDets=  1 ] = 0.082\n",
            " Average Recall     (AR) @[ IoU=0.50:0.95 | area=   all | maxDets= 10 ] = 0.185\n",
            " Average Recall     (AR) @[ IoU=0.50:0.95 | area=   all | maxDets=100 ] = 0.185\n",
            " Average Recall     (AR) @[ IoU=0.50:0.95 | area= small | maxDets=100 ] = 0.055\n",
            " Average Recall     (AR) @[ IoU=0.50:0.95 | area=medium | maxDets=100 ] = 0.400\n",
            " Average Recall     (AR) @[ IoU=0.50:0.95 | area= large | maxDets=100 ] = 0.161\n",
            "Epoch Completed: 13/20, Time: 992.1065993309021, Train Loss: 0.07840887478281765, Valid Loss: 0.07859814836630458\n"
          ],
          "name": "stdout"
        },
        {
          "output_type": "stream",
          "text": [
            "Epoch: 14, Batch: 29638, Loss: 0.054832469671964645: 100%|██████████| 2117/2117 [11:55<00:00,  2.96it/s]\n",
            "100%|██████████| 530/530 [01:28<00:00,  5.96it/s]\n"
          ],
          "name": "stderr"
        },
        {
          "output_type": "stream",
          "text": [
            "creating index...\n",
            "index created!\n",
            "Test:  [  0/530]  eta: 0:22:15  model_time: 0.3491 (0.3491)  evaluator_time: 0.0814 (0.0814)  time: 2.5206  data: 2.0830  max mem: 1449\n",
            "Test:  [100/530]  eta: 0:01:41  model_time: 0.1612 (0.1701)  evaluator_time: 0.0103 (0.0122)  time: 0.2054  data: 0.0305  max mem: 1449\n",
            "Test:  [200/530]  eta: 0:01:12  model_time: 0.1558 (0.1658)  evaluator_time: 0.0103 (0.0114)  time: 0.2363  data: 0.0647  max mem: 1449\n",
            "Test:  [300/530]  eta: 0:00:48  model_time: 0.1553 (0.1629)  evaluator_time: 0.0100 (0.0111)  time: 0.1993  data: 0.0292  max mem: 1449\n",
            "Test:  [400/530]  eta: 0:00:26  model_time: 0.1535 (0.1610)  evaluator_time: 0.0099 (0.0109)  time: 0.1797  data: 0.0137  max mem: 1449\n",
            "Test:  [500/530]  eta: 0:00:06  model_time: 0.1554 (0.1599)  evaluator_time: 0.0109 (0.0109)  time: 0.1730  data: 0.0031  max mem: 1449\n",
            "Test:  [529/530]  eta: 0:00:00  model_time: 0.1549 (0.1594)  evaluator_time: 0.0102 (0.0108)  time: 0.1627  data: 0.0010  max mem: 1449\n",
            "Test: Total time: 0:01:46 (0.2019 s / it)\n",
            "Averaged stats: model_time: 0.1549 (0.1594)  evaluator_time: 0.0102 (0.0108)\n",
            "Accumulating evaluation results...\n"
          ],
          "name": "stdout"
        },
        {
          "output_type": "stream",
          "text": [
            "\rlet's train:   0%|          | 0/2117 [00:00<?, ?it/s]"
          ],
          "name": "stderr"
        },
        {
          "output_type": "stream",
          "text": [
            "DONE (t=0.72s).\n",
            "IoU metric: bbox\n",
            " Average Precision  (AP) @[ IoU=0.50:0.95 | area=   all | maxDets=100 ] = 0.062\n",
            " Average Precision  (AP) @[ IoU=0.50      | area=   all | maxDets=100 ] = 0.182\n",
            " Average Precision  (AP) @[ IoU=0.75      | area=   all | maxDets=100 ] = 0.024\n",
            " Average Precision  (AP) @[ IoU=0.50:0.95 | area= small | maxDets=100 ] = 0.012\n",
            " Average Precision  (AP) @[ IoU=0.50:0.95 | area=medium | maxDets=100 ] = 0.130\n",
            " Average Precision  (AP) @[ IoU=0.50:0.95 | area= large | maxDets=100 ] = 0.129\n",
            " Average Recall     (AR) @[ IoU=0.50:0.95 | area=   all | maxDets=  1 ] = 0.082\n",
            " Average Recall     (AR) @[ IoU=0.50:0.95 | area=   all | maxDets= 10 ] = 0.185\n",
            " Average Recall     (AR) @[ IoU=0.50:0.95 | area=   all | maxDets=100 ] = 0.185\n",
            " Average Recall     (AR) @[ IoU=0.50:0.95 | area= small | maxDets=100 ] = 0.055\n",
            " Average Recall     (AR) @[ IoU=0.50:0.95 | area=medium | maxDets=100 ] = 0.400\n",
            " Average Recall     (AR) @[ IoU=0.50:0.95 | area= large | maxDets=100 ] = 0.161\n",
            "Epoch Completed: 14/20, Time: 996.3085670471191, Train Loss: 0.07835288254661159, Valid Loss: 0.07833619240500068\n"
          ],
          "name": "stdout"
        },
        {
          "output_type": "stream",
          "text": [
            "Epoch: 15, Batch: 31755, Loss: 0.09267216920852661: 100%|██████████| 2117/2117 [11:48<00:00,  2.99it/s]\n",
            "100%|██████████| 530/530 [01:29<00:00,  5.93it/s]\n"
          ],
          "name": "stderr"
        },
        {
          "output_type": "stream",
          "text": [
            "creating index...\n",
            "index created!\n",
            "Test:  [  0/530]  eta: 0:23:36  model_time: 0.3934 (0.3934)  evaluator_time: 0.2252 (0.2252)  time: 2.6723  data: 2.0444  max mem: 1449\n",
            "Test:  [100/530]  eta: 0:01:41  model_time: 0.1634 (0.1677)  evaluator_time: 0.0100 (0.0130)  time: 0.1848  data: 0.0078  max mem: 1449\n",
            "Test:  [200/530]  eta: 0:01:12  model_time: 0.1590 (0.1646)  evaluator_time: 0.0102 (0.0116)  time: 0.2044  data: 0.0316  max mem: 1449\n",
            "Test:  [300/530]  eta: 0:00:48  model_time: 0.1530 (0.1619)  evaluator_time: 0.0098 (0.0112)  time: 0.2113  data: 0.0443  max mem: 1449\n",
            "Test:  [400/530]  eta: 0:00:26  model_time: 0.1536 (0.1602)  evaluator_time: 0.0102 (0.0110)  time: 0.1696  data: 0.0010  max mem: 1449\n",
            "Test:  [500/530]  eta: 0:00:06  model_time: 0.1551 (0.1593)  evaluator_time: 0.0106 (0.0109)  time: 0.1735  data: 0.0057  max mem: 1449\n",
            "Test:  [529/530]  eta: 0:00:00  model_time: 0.1539 (0.1589)  evaluator_time: 0.0099 (0.0108)  time: 0.1709  data: 0.0095  max mem: 1449\n",
            "Test: Total time: 0:01:47 (0.2021 s / it)\n",
            "Averaged stats: model_time: 0.1539 (0.1589)  evaluator_time: 0.0099 (0.0108)\n",
            "Accumulating evaluation results...\n"
          ],
          "name": "stdout"
        },
        {
          "output_type": "stream",
          "text": [
            "\rlet's train:   0%|          | 0/2117 [00:00<?, ?it/s]"
          ],
          "name": "stderr"
        },
        {
          "output_type": "stream",
          "text": [
            "DONE (t=0.74s).\n",
            "IoU metric: bbox\n",
            " Average Precision  (AP) @[ IoU=0.50:0.95 | area=   all | maxDets=100 ] = 0.062\n",
            " Average Precision  (AP) @[ IoU=0.50      | area=   all | maxDets=100 ] = 0.182\n",
            " Average Precision  (AP) @[ IoU=0.75      | area=   all | maxDets=100 ] = 0.024\n",
            " Average Precision  (AP) @[ IoU=0.50:0.95 | area= small | maxDets=100 ] = 0.012\n",
            " Average Precision  (AP) @[ IoU=0.50:0.95 | area=medium | maxDets=100 ] = 0.130\n",
            " Average Precision  (AP) @[ IoU=0.50:0.95 | area= large | maxDets=100 ] = 0.129\n",
            " Average Recall     (AR) @[ IoU=0.50:0.95 | area=   all | maxDets=  1 ] = 0.082\n",
            " Average Recall     (AR) @[ IoU=0.50:0.95 | area=   all | maxDets= 10 ] = 0.185\n",
            " Average Recall     (AR) @[ IoU=0.50:0.95 | area=   all | maxDets=100 ] = 0.185\n",
            " Average Recall     (AR) @[ IoU=0.50:0.95 | area= small | maxDets=100 ] = 0.055\n",
            " Average Recall     (AR) @[ IoU=0.50:0.95 | area=medium | maxDets=100 ] = 0.400\n",
            " Average Recall     (AR) @[ IoU=0.50:0.95 | area= large | maxDets=100 ] = 0.161\n",
            "Epoch Completed: 15/20, Time: 989.7475171089172, Train Loss: 0.07838437556569369, Valid Loss: 0.07845746464785716\n"
          ],
          "name": "stdout"
        },
        {
          "output_type": "stream",
          "text": [
            "Epoch: 16, Batch: 33872, Loss: 0.06970230489969254: 100%|██████████| 2117/2117 [11:53<00:00,  2.97it/s]\n",
            "100%|██████████| 530/530 [01:29<00:00,  5.94it/s]\n"
          ],
          "name": "stderr"
        },
        {
          "output_type": "stream",
          "text": [
            "creating index...\n",
            "index created!\n",
            "Test:  [  0/530]  eta: 0:22:21  model_time: 0.5972 (0.5972)  evaluator_time: 0.1008 (0.1008)  time: 2.5317  data: 1.8294  max mem: 1449\n",
            "Test:  [100/530]  eta: 0:01:36  model_time: 0.1655 (0.1671)  evaluator_time: 0.0098 (0.0114)  time: 0.1837  data: 0.0063  max mem: 1449\n",
            "Test:  [200/530]  eta: 0:01:10  model_time: 0.1566 (0.1643)  evaluator_time: 0.0102 (0.0111)  time: 0.2217  data: 0.0505  max mem: 1449\n",
            "Test:  [300/530]  eta: 0:00:47  model_time: 0.1545 (0.1616)  evaluator_time: 0.0100 (0.0109)  time: 0.2015  data: 0.0327  max mem: 1449\n",
            "Test:  [400/530]  eta: 0:00:26  model_time: 0.1538 (0.1600)  evaluator_time: 0.0097 (0.0108)  time: 0.1804  data: 0.0132  max mem: 1449\n",
            "Test:  [500/530]  eta: 0:00:06  model_time: 0.1556 (0.1595)  evaluator_time: 0.0096 (0.0108)  time: 0.1724  data: 0.0061  max mem: 1449\n",
            "Test:  [529/530]  eta: 0:00:00  model_time: 0.1510 (0.1588)  evaluator_time: 0.0101 (0.0108)  time: 0.1800  data: 0.0222  max mem: 1449\n",
            "Test: Total time: 0:01:47 (0.2020 s / it)\n",
            "Averaged stats: model_time: 0.1510 (0.1588)  evaluator_time: 0.0101 (0.0108)\n",
            "Accumulating evaluation results...\n"
          ],
          "name": "stdout"
        },
        {
          "output_type": "stream",
          "text": [
            "\rlet's train:   0%|          | 0/2117 [00:00<?, ?it/s]"
          ],
          "name": "stderr"
        },
        {
          "output_type": "stream",
          "text": [
            "DONE (t=0.73s).\n",
            "IoU metric: bbox\n",
            " Average Precision  (AP) @[ IoU=0.50:0.95 | area=   all | maxDets=100 ] = 0.062\n",
            " Average Precision  (AP) @[ IoU=0.50      | area=   all | maxDets=100 ] = 0.182\n",
            " Average Precision  (AP) @[ IoU=0.75      | area=   all | maxDets=100 ] = 0.024\n",
            " Average Precision  (AP) @[ IoU=0.50:0.95 | area= small | maxDets=100 ] = 0.012\n",
            " Average Precision  (AP) @[ IoU=0.50:0.95 | area=medium | maxDets=100 ] = 0.130\n",
            " Average Precision  (AP) @[ IoU=0.50:0.95 | area= large | maxDets=100 ] = 0.129\n",
            " Average Recall     (AR) @[ IoU=0.50:0.95 | area=   all | maxDets=  1 ] = 0.082\n",
            " Average Recall     (AR) @[ IoU=0.50:0.95 | area=   all | maxDets= 10 ] = 0.185\n",
            " Average Recall     (AR) @[ IoU=0.50:0.95 | area=   all | maxDets=100 ] = 0.185\n",
            " Average Recall     (AR) @[ IoU=0.50:0.95 | area= small | maxDets=100 ] = 0.055\n",
            " Average Recall     (AR) @[ IoU=0.50:0.95 | area=medium | maxDets=100 ] = 0.400\n",
            " Average Recall     (AR) @[ IoU=0.50:0.95 | area= large | maxDets=100 ] = 0.161\n",
            "Epoch Completed: 16/20, Time: 995.5024745464325, Train Loss: 0.07836828903575772, Valid Loss: 0.07836102686892703\n"
          ],
          "name": "stdout"
        },
        {
          "output_type": "stream",
          "text": [
            "Epoch: 17, Batch: 35934, Loss: 0.16191452741622925:  97%|█████████▋| 2062/2117 [11:31<00:17,  3.08it/s]"
          ],
          "name": "stderr"
        }
      ]
    },
    {
      "cell_type": "code",
      "metadata": {
        "id": "AD4z6DjqHcrp"
      },
      "source": [
        "torch.save(model.state_dict(), SavePath+'/model_weight2.pth')"
      ],
      "execution_count": 22,
      "outputs": []
    },
    {
      "cell_type": "code",
      "metadata": {
        "id": "QE8Ogjd2FRCC"
      },
      "source": [
        "test_df1 = pd.read_csv('/content/drive/MyDrive/Colab Notebooks/homework3/submission.csv 的副本 的副本')\n",
        "test_df1['class']='NaN'\n",
        "test_df=test_df1.drop_duplicates(subset='patientId')\n",
        "imgpath_test = []\n",
        "\n",
        "for idx, row in test_df.iterrows():\n",
        "  imgpath_test.append('/content/drive/MyDrive/Colab Notebooks/homework3/resize_testImage/'+row['patientId']+'.png')\n",
        "\n",
        "Class={'No Lung Opacity / Not Normal or Normal':0,\n",
        "      'Lung Opacity':1,}\n"
      ],
      "execution_count": 22,
      "outputs": []
    },
    {
      "cell_type": "code",
      "metadata": {
        "id": "6tP754_TbvDu",
        "colab": {
          "base_uri": "https://localhost:8080/",
          "height": 414
        },
        "outputId": "1fb3dcc5-1e0a-4fcd-d2f0-d54ea7cae901"
      },
      "source": [
        "test_df"
      ],
      "execution_count": 24,
      "outputs": [
        {
          "output_type": "execute_result",
          "data": {
            "text/html": [
              "<div>\n",
              "<style scoped>\n",
              "    .dataframe tbody tr th:only-of-type {\n",
              "        vertical-align: middle;\n",
              "    }\n",
              "\n",
              "    .dataframe tbody tr th {\n",
              "        vertical-align: top;\n",
              "    }\n",
              "\n",
              "    .dataframe thead th {\n",
              "        text-align: right;\n",
              "    }\n",
              "</style>\n",
              "<table border=\"1\" class=\"dataframe\">\n",
              "  <thead>\n",
              "    <tr style=\"text-align: right;\">\n",
              "      <th></th>\n",
              "      <th>patientId</th>\n",
              "      <th>class</th>\n",
              "      <th>Target</th>\n",
              "      <th>x</th>\n",
              "      <th>y</th>\n",
              "      <th>width</th>\n",
              "      <th>height</th>\n",
              "    </tr>\n",
              "  </thead>\n",
              "  <tbody>\n",
              "    <tr>\n",
              "      <th>0</th>\n",
              "      <td>d9625316-b22c-44db-adbe-d99cfbb9e996</td>\n",
              "      <td>NaN</td>\n",
              "      <td>NaN</td>\n",
              "      <td>NaN</td>\n",
              "      <td>NaN</td>\n",
              "      <td>NaN</td>\n",
              "      <td>NaN</td>\n",
              "    </tr>\n",
              "    <tr>\n",
              "      <th>1</th>\n",
              "      <td>d9628d5b-2437-4df9-b66c-d35e30f3a40b</td>\n",
              "      <td>NaN</td>\n",
              "      <td>NaN</td>\n",
              "      <td>NaN</td>\n",
              "      <td>NaN</td>\n",
              "      <td>NaN</td>\n",
              "      <td>NaN</td>\n",
              "    </tr>\n",
              "    <tr>\n",
              "      <th>2</th>\n",
              "      <td>d9645d7c-415f-420d-b82a-675062674282</td>\n",
              "      <td>NaN</td>\n",
              "      <td>NaN</td>\n",
              "      <td>NaN</td>\n",
              "      <td>NaN</td>\n",
              "      <td>NaN</td>\n",
              "      <td>NaN</td>\n",
              "    </tr>\n",
              "    <tr>\n",
              "      <th>3</th>\n",
              "      <td>d967c678-30f0-48b4-9563-167e746e972d</td>\n",
              "      <td>NaN</td>\n",
              "      <td>NaN</td>\n",
              "      <td>NaN</td>\n",
              "      <td>NaN</td>\n",
              "      <td>NaN</td>\n",
              "      <td>NaN</td>\n",
              "    </tr>\n",
              "    <tr>\n",
              "      <th>4</th>\n",
              "      <td>d96a84b3-a770-4270-9089-572f2782967d</td>\n",
              "      <td>NaN</td>\n",
              "      <td>NaN</td>\n",
              "      <td>NaN</td>\n",
              "      <td>NaN</td>\n",
              "      <td>NaN</td>\n",
              "      <td>NaN</td>\n",
              "    </tr>\n",
              "    <tr>\n",
              "      <th>...</th>\n",
              "      <td>...</td>\n",
              "      <td>...</td>\n",
              "      <td>...</td>\n",
              "      <td>...</td>\n",
              "      <td>...</td>\n",
              "      <td>...</td>\n",
              "      <td>...</td>\n",
              "    </tr>\n",
              "    <tr>\n",
              "      <th>6038</th>\n",
              "      <td>c1e73a4e-7afe-4ec5-8af6-ce8315d7a2f2</td>\n",
              "      <td>NaN</td>\n",
              "      <td>NaN</td>\n",
              "      <td>NaN</td>\n",
              "      <td>NaN</td>\n",
              "      <td>NaN</td>\n",
              "      <td>NaN</td>\n",
              "    </tr>\n",
              "    <tr>\n",
              "      <th>6040</th>\n",
              "      <td>c1ec14ff-f6d7-4b38-b0cb-fe07041cbdc8</td>\n",
              "      <td>NaN</td>\n",
              "      <td>NaN</td>\n",
              "      <td>NaN</td>\n",
              "      <td>NaN</td>\n",
              "      <td>NaN</td>\n",
              "      <td>NaN</td>\n",
              "    </tr>\n",
              "    <tr>\n",
              "      <th>6042</th>\n",
              "      <td>c1edf42b-5958-47ff-a1e7-4f23d99583ba</td>\n",
              "      <td>NaN</td>\n",
              "      <td>NaN</td>\n",
              "      <td>NaN</td>\n",
              "      <td>NaN</td>\n",
              "      <td>NaN</td>\n",
              "      <td>NaN</td>\n",
              "    </tr>\n",
              "    <tr>\n",
              "      <th>6043</th>\n",
              "      <td>c1f6b555-2eb1-4231-98f6-50a963976431</td>\n",
              "      <td>NaN</td>\n",
              "      <td>NaN</td>\n",
              "      <td>NaN</td>\n",
              "      <td>NaN</td>\n",
              "      <td>NaN</td>\n",
              "      <td>NaN</td>\n",
              "    </tr>\n",
              "    <tr>\n",
              "      <th>6044</th>\n",
              "      <td>c1f7889a-9ea9-4acb-b64c-b737c929599a</td>\n",
              "      <td>NaN</td>\n",
              "      <td>NaN</td>\n",
              "      <td>NaN</td>\n",
              "      <td>NaN</td>\n",
              "      <td>NaN</td>\n",
              "      <td>NaN</td>\n",
              "    </tr>\n",
              "  </tbody>\n",
              "</table>\n",
              "<p>5518 rows × 7 columns</p>\n",
              "</div>"
            ],
            "text/plain": [
              "                                 patientId class  Target   x   y  width  height\n",
              "0     d9625316-b22c-44db-adbe-d99cfbb9e996   NaN     NaN NaN NaN    NaN     NaN\n",
              "1     d9628d5b-2437-4df9-b66c-d35e30f3a40b   NaN     NaN NaN NaN    NaN     NaN\n",
              "2     d9645d7c-415f-420d-b82a-675062674282   NaN     NaN NaN NaN    NaN     NaN\n",
              "3     d967c678-30f0-48b4-9563-167e746e972d   NaN     NaN NaN NaN    NaN     NaN\n",
              "4     d96a84b3-a770-4270-9089-572f2782967d   NaN     NaN NaN NaN    NaN     NaN\n",
              "...                                    ...   ...     ...  ..  ..    ...     ...\n",
              "6038  c1e73a4e-7afe-4ec5-8af6-ce8315d7a2f2   NaN     NaN NaN NaN    NaN     NaN\n",
              "6040  c1ec14ff-f6d7-4b38-b0cb-fe07041cbdc8   NaN     NaN NaN NaN    NaN     NaN\n",
              "6042  c1edf42b-5958-47ff-a1e7-4f23d99583ba   NaN     NaN NaN NaN    NaN     NaN\n",
              "6043  c1f6b555-2eb1-4231-98f6-50a963976431   NaN     NaN NaN NaN    NaN     NaN\n",
              "6044  c1f7889a-9ea9-4acb-b64c-b737c929599a   NaN     NaN NaN NaN    NaN     NaN\n",
              "\n",
              "[5518 rows x 7 columns]"
            ]
          },
          "metadata": {
            "tags": []
          },
          "execution_count": 24
        }
      ]
    },
    {
      "cell_type": "code",
      "metadata": {
        "id": "iS_GvIKMiljb",
        "colab": {
          "base_uri": "https://localhost:8080/"
        },
        "outputId": "3ab0c0b1-fada-4951-fe99-70ae4b44ca02"
      },
      "source": [
        "\n",
        "# load an instance segmentation model pre-trained on COCO\n",
        "net_load = torchvision.models.detection.fasterrcnn_resnet50_fpn(pretrained=True)\n",
        "\n",
        "# get the number of input features for the classifier\n",
        "in_features = net_load.roi_heads.box_predictor.cls_score.in_features\n",
        "# replace the pre-trained head with a new one\n",
        "net_load.roi_heads.box_predictor = FastRCNNPredictor(in_features, 2)\n",
        "\n",
        "device = torch.device(\"cuda:0\" if torch.cuda.is_available() else \"cpu\")\n",
        "net_load.to(device)\n",
        "    \n",
        "weight_path = SavePath+'/model_weight2.pth'\n",
        "net_load.load_state_dict(torch.load(weight_path))\n",
        "\n",
        "net_load.eval()\n",
        "net_load.to(device)"
      ],
      "execution_count": 32,
      "outputs": [
        {
          "output_type": "execute_result",
          "data": {
            "text/plain": [
              "FasterRCNN(\n",
              "  (transform): GeneralizedRCNNTransform(\n",
              "      Normalize(mean=[0.485, 0.456, 0.406], std=[0.229, 0.224, 0.225])\n",
              "      Resize(min_size=(800,), max_size=1333, mode='bilinear')\n",
              "  )\n",
              "  (backbone): BackboneWithFPN(\n",
              "    (body): IntermediateLayerGetter(\n",
              "      (conv1): Conv2d(3, 64, kernel_size=(7, 7), stride=(2, 2), padding=(3, 3), bias=False)\n",
              "      (bn1): FrozenBatchNorm2d(64, eps=0.0)\n",
              "      (relu): ReLU(inplace=True)\n",
              "      (maxpool): MaxPool2d(kernel_size=3, stride=2, padding=1, dilation=1, ceil_mode=False)\n",
              "      (layer1): Sequential(\n",
              "        (0): Bottleneck(\n",
              "          (conv1): Conv2d(64, 64, kernel_size=(1, 1), stride=(1, 1), bias=False)\n",
              "          (bn1): FrozenBatchNorm2d(64, eps=0.0)\n",
              "          (conv2): Conv2d(64, 64, kernel_size=(3, 3), stride=(1, 1), padding=(1, 1), bias=False)\n",
              "          (bn2): FrozenBatchNorm2d(64, eps=0.0)\n",
              "          (conv3): Conv2d(64, 256, kernel_size=(1, 1), stride=(1, 1), bias=False)\n",
              "          (bn3): FrozenBatchNorm2d(256, eps=0.0)\n",
              "          (relu): ReLU(inplace=True)\n",
              "          (downsample): Sequential(\n",
              "            (0): Conv2d(64, 256, kernel_size=(1, 1), stride=(1, 1), bias=False)\n",
              "            (1): FrozenBatchNorm2d(256, eps=0.0)\n",
              "          )\n",
              "        )\n",
              "        (1): Bottleneck(\n",
              "          (conv1): Conv2d(256, 64, kernel_size=(1, 1), stride=(1, 1), bias=False)\n",
              "          (bn1): FrozenBatchNorm2d(64, eps=0.0)\n",
              "          (conv2): Conv2d(64, 64, kernel_size=(3, 3), stride=(1, 1), padding=(1, 1), bias=False)\n",
              "          (bn2): FrozenBatchNorm2d(64, eps=0.0)\n",
              "          (conv3): Conv2d(64, 256, kernel_size=(1, 1), stride=(1, 1), bias=False)\n",
              "          (bn3): FrozenBatchNorm2d(256, eps=0.0)\n",
              "          (relu): ReLU(inplace=True)\n",
              "        )\n",
              "        (2): Bottleneck(\n",
              "          (conv1): Conv2d(256, 64, kernel_size=(1, 1), stride=(1, 1), bias=False)\n",
              "          (bn1): FrozenBatchNorm2d(64, eps=0.0)\n",
              "          (conv2): Conv2d(64, 64, kernel_size=(3, 3), stride=(1, 1), padding=(1, 1), bias=False)\n",
              "          (bn2): FrozenBatchNorm2d(64, eps=0.0)\n",
              "          (conv3): Conv2d(64, 256, kernel_size=(1, 1), stride=(1, 1), bias=False)\n",
              "          (bn3): FrozenBatchNorm2d(256, eps=0.0)\n",
              "          (relu): ReLU(inplace=True)\n",
              "        )\n",
              "      )\n",
              "      (layer2): Sequential(\n",
              "        (0): Bottleneck(\n",
              "          (conv1): Conv2d(256, 128, kernel_size=(1, 1), stride=(1, 1), bias=False)\n",
              "          (bn1): FrozenBatchNorm2d(128, eps=0.0)\n",
              "          (conv2): Conv2d(128, 128, kernel_size=(3, 3), stride=(2, 2), padding=(1, 1), bias=False)\n",
              "          (bn2): FrozenBatchNorm2d(128, eps=0.0)\n",
              "          (conv3): Conv2d(128, 512, kernel_size=(1, 1), stride=(1, 1), bias=False)\n",
              "          (bn3): FrozenBatchNorm2d(512, eps=0.0)\n",
              "          (relu): ReLU(inplace=True)\n",
              "          (downsample): Sequential(\n",
              "            (0): Conv2d(256, 512, kernel_size=(1, 1), stride=(2, 2), bias=False)\n",
              "            (1): FrozenBatchNorm2d(512, eps=0.0)\n",
              "          )\n",
              "        )\n",
              "        (1): Bottleneck(\n",
              "          (conv1): Conv2d(512, 128, kernel_size=(1, 1), stride=(1, 1), bias=False)\n",
              "          (bn1): FrozenBatchNorm2d(128, eps=0.0)\n",
              "          (conv2): Conv2d(128, 128, kernel_size=(3, 3), stride=(1, 1), padding=(1, 1), bias=False)\n",
              "          (bn2): FrozenBatchNorm2d(128, eps=0.0)\n",
              "          (conv3): Conv2d(128, 512, kernel_size=(1, 1), stride=(1, 1), bias=False)\n",
              "          (bn3): FrozenBatchNorm2d(512, eps=0.0)\n",
              "          (relu): ReLU(inplace=True)\n",
              "        )\n",
              "        (2): Bottleneck(\n",
              "          (conv1): Conv2d(512, 128, kernel_size=(1, 1), stride=(1, 1), bias=False)\n",
              "          (bn1): FrozenBatchNorm2d(128, eps=0.0)\n",
              "          (conv2): Conv2d(128, 128, kernel_size=(3, 3), stride=(1, 1), padding=(1, 1), bias=False)\n",
              "          (bn2): FrozenBatchNorm2d(128, eps=0.0)\n",
              "          (conv3): Conv2d(128, 512, kernel_size=(1, 1), stride=(1, 1), bias=False)\n",
              "          (bn3): FrozenBatchNorm2d(512, eps=0.0)\n",
              "          (relu): ReLU(inplace=True)\n",
              "        )\n",
              "        (3): Bottleneck(\n",
              "          (conv1): Conv2d(512, 128, kernel_size=(1, 1), stride=(1, 1), bias=False)\n",
              "          (bn1): FrozenBatchNorm2d(128, eps=0.0)\n",
              "          (conv2): Conv2d(128, 128, kernel_size=(3, 3), stride=(1, 1), padding=(1, 1), bias=False)\n",
              "          (bn2): FrozenBatchNorm2d(128, eps=0.0)\n",
              "          (conv3): Conv2d(128, 512, kernel_size=(1, 1), stride=(1, 1), bias=False)\n",
              "          (bn3): FrozenBatchNorm2d(512, eps=0.0)\n",
              "          (relu): ReLU(inplace=True)\n",
              "        )\n",
              "      )\n",
              "      (layer3): Sequential(\n",
              "        (0): Bottleneck(\n",
              "          (conv1): Conv2d(512, 256, kernel_size=(1, 1), stride=(1, 1), bias=False)\n",
              "          (bn1): FrozenBatchNorm2d(256, eps=0.0)\n",
              "          (conv2): Conv2d(256, 256, kernel_size=(3, 3), stride=(2, 2), padding=(1, 1), bias=False)\n",
              "          (bn2): FrozenBatchNorm2d(256, eps=0.0)\n",
              "          (conv3): Conv2d(256, 1024, kernel_size=(1, 1), stride=(1, 1), bias=False)\n",
              "          (bn3): FrozenBatchNorm2d(1024, eps=0.0)\n",
              "          (relu): ReLU(inplace=True)\n",
              "          (downsample): Sequential(\n",
              "            (0): Conv2d(512, 1024, kernel_size=(1, 1), stride=(2, 2), bias=False)\n",
              "            (1): FrozenBatchNorm2d(1024, eps=0.0)\n",
              "          )\n",
              "        )\n",
              "        (1): Bottleneck(\n",
              "          (conv1): Conv2d(1024, 256, kernel_size=(1, 1), stride=(1, 1), bias=False)\n",
              "          (bn1): FrozenBatchNorm2d(256, eps=0.0)\n",
              "          (conv2): Conv2d(256, 256, kernel_size=(3, 3), stride=(1, 1), padding=(1, 1), bias=False)\n",
              "          (bn2): FrozenBatchNorm2d(256, eps=0.0)\n",
              "          (conv3): Conv2d(256, 1024, kernel_size=(1, 1), stride=(1, 1), bias=False)\n",
              "          (bn3): FrozenBatchNorm2d(1024, eps=0.0)\n",
              "          (relu): ReLU(inplace=True)\n",
              "        )\n",
              "        (2): Bottleneck(\n",
              "          (conv1): Conv2d(1024, 256, kernel_size=(1, 1), stride=(1, 1), bias=False)\n",
              "          (bn1): FrozenBatchNorm2d(256, eps=0.0)\n",
              "          (conv2): Conv2d(256, 256, kernel_size=(3, 3), stride=(1, 1), padding=(1, 1), bias=False)\n",
              "          (bn2): FrozenBatchNorm2d(256, eps=0.0)\n",
              "          (conv3): Conv2d(256, 1024, kernel_size=(1, 1), stride=(1, 1), bias=False)\n",
              "          (bn3): FrozenBatchNorm2d(1024, eps=0.0)\n",
              "          (relu): ReLU(inplace=True)\n",
              "        )\n",
              "        (3): Bottleneck(\n",
              "          (conv1): Conv2d(1024, 256, kernel_size=(1, 1), stride=(1, 1), bias=False)\n",
              "          (bn1): FrozenBatchNorm2d(256, eps=0.0)\n",
              "          (conv2): Conv2d(256, 256, kernel_size=(3, 3), stride=(1, 1), padding=(1, 1), bias=False)\n",
              "          (bn2): FrozenBatchNorm2d(256, eps=0.0)\n",
              "          (conv3): Conv2d(256, 1024, kernel_size=(1, 1), stride=(1, 1), bias=False)\n",
              "          (bn3): FrozenBatchNorm2d(1024, eps=0.0)\n",
              "          (relu): ReLU(inplace=True)\n",
              "        )\n",
              "        (4): Bottleneck(\n",
              "          (conv1): Conv2d(1024, 256, kernel_size=(1, 1), stride=(1, 1), bias=False)\n",
              "          (bn1): FrozenBatchNorm2d(256, eps=0.0)\n",
              "          (conv2): Conv2d(256, 256, kernel_size=(3, 3), stride=(1, 1), padding=(1, 1), bias=False)\n",
              "          (bn2): FrozenBatchNorm2d(256, eps=0.0)\n",
              "          (conv3): Conv2d(256, 1024, kernel_size=(1, 1), stride=(1, 1), bias=False)\n",
              "          (bn3): FrozenBatchNorm2d(1024, eps=0.0)\n",
              "          (relu): ReLU(inplace=True)\n",
              "        )\n",
              "        (5): Bottleneck(\n",
              "          (conv1): Conv2d(1024, 256, kernel_size=(1, 1), stride=(1, 1), bias=False)\n",
              "          (bn1): FrozenBatchNorm2d(256, eps=0.0)\n",
              "          (conv2): Conv2d(256, 256, kernel_size=(3, 3), stride=(1, 1), padding=(1, 1), bias=False)\n",
              "          (bn2): FrozenBatchNorm2d(256, eps=0.0)\n",
              "          (conv3): Conv2d(256, 1024, kernel_size=(1, 1), stride=(1, 1), bias=False)\n",
              "          (bn3): FrozenBatchNorm2d(1024, eps=0.0)\n",
              "          (relu): ReLU(inplace=True)\n",
              "        )\n",
              "      )\n",
              "      (layer4): Sequential(\n",
              "        (0): Bottleneck(\n",
              "          (conv1): Conv2d(1024, 512, kernel_size=(1, 1), stride=(1, 1), bias=False)\n",
              "          (bn1): FrozenBatchNorm2d(512, eps=0.0)\n",
              "          (conv2): Conv2d(512, 512, kernel_size=(3, 3), stride=(2, 2), padding=(1, 1), bias=False)\n",
              "          (bn2): FrozenBatchNorm2d(512, eps=0.0)\n",
              "          (conv3): Conv2d(512, 2048, kernel_size=(1, 1), stride=(1, 1), bias=False)\n",
              "          (bn3): FrozenBatchNorm2d(2048, eps=0.0)\n",
              "          (relu): ReLU(inplace=True)\n",
              "          (downsample): Sequential(\n",
              "            (0): Conv2d(1024, 2048, kernel_size=(1, 1), stride=(2, 2), bias=False)\n",
              "            (1): FrozenBatchNorm2d(2048, eps=0.0)\n",
              "          )\n",
              "        )\n",
              "        (1): Bottleneck(\n",
              "          (conv1): Conv2d(2048, 512, kernel_size=(1, 1), stride=(1, 1), bias=False)\n",
              "          (bn1): FrozenBatchNorm2d(512, eps=0.0)\n",
              "          (conv2): Conv2d(512, 512, kernel_size=(3, 3), stride=(1, 1), padding=(1, 1), bias=False)\n",
              "          (bn2): FrozenBatchNorm2d(512, eps=0.0)\n",
              "          (conv3): Conv2d(512, 2048, kernel_size=(1, 1), stride=(1, 1), bias=False)\n",
              "          (bn3): FrozenBatchNorm2d(2048, eps=0.0)\n",
              "          (relu): ReLU(inplace=True)\n",
              "        )\n",
              "        (2): Bottleneck(\n",
              "          (conv1): Conv2d(2048, 512, kernel_size=(1, 1), stride=(1, 1), bias=False)\n",
              "          (bn1): FrozenBatchNorm2d(512, eps=0.0)\n",
              "          (conv2): Conv2d(512, 512, kernel_size=(3, 3), stride=(1, 1), padding=(1, 1), bias=False)\n",
              "          (bn2): FrozenBatchNorm2d(512, eps=0.0)\n",
              "          (conv3): Conv2d(512, 2048, kernel_size=(1, 1), stride=(1, 1), bias=False)\n",
              "          (bn3): FrozenBatchNorm2d(2048, eps=0.0)\n",
              "          (relu): ReLU(inplace=True)\n",
              "        )\n",
              "      )\n",
              "    )\n",
              "    (fpn): FeaturePyramidNetwork(\n",
              "      (inner_blocks): ModuleList(\n",
              "        (0): Conv2d(256, 256, kernel_size=(1, 1), stride=(1, 1))\n",
              "        (1): Conv2d(512, 256, kernel_size=(1, 1), stride=(1, 1))\n",
              "        (2): Conv2d(1024, 256, kernel_size=(1, 1), stride=(1, 1))\n",
              "        (3): Conv2d(2048, 256, kernel_size=(1, 1), stride=(1, 1))\n",
              "      )\n",
              "      (layer_blocks): ModuleList(\n",
              "        (0): Conv2d(256, 256, kernel_size=(3, 3), stride=(1, 1), padding=(1, 1))\n",
              "        (1): Conv2d(256, 256, kernel_size=(3, 3), stride=(1, 1), padding=(1, 1))\n",
              "        (2): Conv2d(256, 256, kernel_size=(3, 3), stride=(1, 1), padding=(1, 1))\n",
              "        (3): Conv2d(256, 256, kernel_size=(3, 3), stride=(1, 1), padding=(1, 1))\n",
              "      )\n",
              "      (extra_blocks): LastLevelMaxPool()\n",
              "    )\n",
              "  )\n",
              "  (rpn): RegionProposalNetwork(\n",
              "    (anchor_generator): AnchorGenerator()\n",
              "    (head): RPNHead(\n",
              "      (conv): Conv2d(256, 256, kernel_size=(3, 3), stride=(1, 1), padding=(1, 1))\n",
              "      (cls_logits): Conv2d(256, 3, kernel_size=(1, 1), stride=(1, 1))\n",
              "      (bbox_pred): Conv2d(256, 12, kernel_size=(1, 1), stride=(1, 1))\n",
              "    )\n",
              "  )\n",
              "  (roi_heads): RoIHeads(\n",
              "    (box_roi_pool): MultiScaleRoIAlign(featmap_names=['0', '1', '2', '3'], output_size=(7, 7), sampling_ratio=2)\n",
              "    (box_head): TwoMLPHead(\n",
              "      (fc6): Linear(in_features=12544, out_features=1024, bias=True)\n",
              "      (fc7): Linear(in_features=1024, out_features=1024, bias=True)\n",
              "    )\n",
              "    (box_predictor): FastRCNNPredictor(\n",
              "      (cls_score): Linear(in_features=1024, out_features=2, bias=True)\n",
              "      (bbox_pred): Linear(in_features=1024, out_features=8, bias=True)\n",
              "    )\n",
              "  )\n",
              ")"
            ]
          },
          "metadata": {
            "tags": []
          },
          "execution_count": 32
        }
      ]
    },
    {
      "cell_type": "code",
      "metadata": {
        "id": "OC_AEla6L-Wg"
      },
      "source": [
        "transform = transforms.Compose([\n",
        "       transforms.ToTensor(),\n",
        "])\n",
        "\n",
        "class test_set(Dataset):\n",
        "    def __init__(self,img_path,transform):\n",
        "        # --------------------------------------------\n",
        "        # Initialize paths, transforms, and so on\n",
        "        # --------------------------------------------\n",
        "        \n",
        "        self.images = img_path\n",
        "        self.transform = transform\n",
        "        \n",
        "    def __getitem__(self, index):\n",
        "        # --------------------------------------------\n",
        "        # 1. Read from file (using numpy.fromfile, PIL.Image.open)\n",
        "        # 2. Preprocess the data (torchvision.Transform).\n",
        "        # 3. Return the data (e.g. image and label)\n",
        "        # --------------------------------------------\n",
        "        imgpath = self.images[index]\n",
        "        img=Image.open(imgpath)\n",
        "      \n",
        "        \n",
        "        \n",
        "        if self.transform is not None:\n",
        "         \n",
        "          img = self.transform(img)\n",
        "      \n",
        "        \n",
        "        return img,index\n",
        "\n",
        "\n",
        "        \n",
        "    def __len__(self):\n",
        "        # --------------------------------------------\n",
        "        # Indicate the total size of the dataset\n",
        "        # --------------------------------------------\n",
        "        return len(self.images)"
      ],
      "execution_count": 26,
      "outputs": []
    },
    {
      "cell_type": "code",
      "metadata": {
        "id": "4DWy1E-eQsCZ",
        "colab": {
          "base_uri": "https://localhost:8080/",
          "height": 119,
          "referenced_widgets": [
            "8c45771245e24c28ad78710f3115a014",
            "e739e2e67881458287c8b6126232ca9b",
            "2700718da687423b956868c50da4f460",
            "b10135518e6e426686660ab999a9bc99",
            "6ba24d1b2edf4e32a1ecb0dbc7398e38",
            "81a08e1ec216452096a71bbcd106a709",
            "00b11cf8c6114d1fa32fada32a7c9465",
            "1a369407ec9c4bf29d4092ba8dd4ff8d"
          ]
        },
        "outputId": "af234141-a16f-45b3-e253-adacbc6eccda"
      },
      "source": [
        "import torch.nn.functional as F\n",
        "\n",
        "testset = test_set(imgpath_test,transform)\n",
        "testloader = DataLoader(testset, batch_size=1, shuffle=False, pin_memory=True, num_workers = 16,  collate_fn=utils.collate_fn)\n",
        "\n",
        "with torch.no_grad():\n",
        "    score_threshold = 0.73\n",
        "    pred = []\n",
        "\n",
        "    for img, index in tqdm(testloader):\n",
        "      img = list(image.to(device) for image in img)\n",
        "      outputs = net_load(img)\n",
        "      num = index[0]\n",
        "      \n",
        "      for idx, output in zip(index, outputs):\n",
        "\n",
        "        boxes = output['boxes'].data.cpu().numpy()\n",
        "        scores = output['scores'].data.cpu().numpy()\n",
        "\n",
        "        bool_value = scores >= score_threshold\n",
        "        boxes = boxes[bool_value].astype(np.float32)\n",
        "        scores = scores[bool_value]\n",
        "      \n",
        "        if len(scores) > 0:\n",
        "         pred.append(1)\n",
        "         test_df.at[num, 'Target'] = 1\n",
        "         test_df.at[num, 'class'] = 'Lung Opacity'\n",
        "\n",
        "        else:\n",
        "         pred.append(0)\n",
        "         test_df.at[num, 'Target'] = 0\n",
        "         test_df.at[num, 'class'] = 'No Lung Opacity'\n",
        "\n",
        "\n",
        "        boxes[:, 2] = boxes[:, 2] - boxes[:, 0]\n",
        "        boxes[:, 3] = boxes[:, 3] - boxes[:, 1]\n",
        "\n",
        "        if pred[num] == 0:\n",
        "          test_df.at[num, 'x'] = 0.0\n",
        "          test_df.at[num, 'y'] = 0.0\n",
        "          test_df.at[num, 'width'] = 0.0\n",
        "          test_df.at[num, 'height'] = 0.0\n",
        "        elif pred[num] == 1 and len(boxes)==1:\n",
        "          test_df.at[num, 'x'] = boxes[0, 0]\n",
        "          test_df.at[num, 'y'] = boxes[0, 1]\n",
        "          test_df.at[num, 'width'] = boxes[0, 2]\n",
        "          test_df.at[num, 'height'] = boxes[0, 3]\n",
        "        else:\n",
        "          patientId = test_df.at[num, 'patientId']\n",
        "          #max_value = max(scores)\n",
        "          max_idx = np.argmax(scores)\n",
        "          test_df.at[num, 'x'] = boxes[max_idx, 0]\n",
        "          test_df.at[num, 'y'] = boxes[max_idx, 1]\n",
        "          test_df.at[num, 'width'] = boxes[max_idx, 2]\n",
        "          test_df.at[num, 'height'] = boxes[max_idx, 3]\n",
        "          scores_2 = scores\n",
        "          scores_2[np.argmax(scores_2)] = np.min(scores)\n",
        "          max2_idx = np.argmax(scores_2)\n",
        "          test_df = test_df.append({'patientId':patientId, 'class':'Lung Opacity', 'Target':1, 'x':boxes[max2_idx, 0] , 'y':boxes[max2_idx, 1], 'width':boxes[max2_idx, 2], 'height':boxes[max2_idx, 3]} , ignore_index=True)\n",
        "          \n",
        "    \n"
      ],
      "execution_count": 27,
      "outputs": [
        {
          "output_type": "stream",
          "text": [
            "/usr/local/lib/python3.7/dist-packages/torch/utils/data/dataloader.py:481: UserWarning: This DataLoader will create 16 worker processes in total. Our suggested max number of worker in current system is 2, which is smaller than what this DataLoader is going to create. Please be aware that excessive worker creation might get DataLoader running slow or even freeze, lower the worker number to avoid potential slowness/freeze if necessary.\n",
            "  cpuset_checked))\n"
          ],
          "name": "stderr"
        },
        {
          "output_type": "display_data",
          "data": {
            "application/vnd.jupyter.widget-view+json": {
              "model_id": "8c45771245e24c28ad78710f3115a014",
              "version_minor": 0,
              "version_major": 2
            },
            "text/plain": [
              "HBox(children=(FloatProgress(value=0.0, max=5518.0), HTML(value='')))"
            ]
          },
          "metadata": {
            "tags": []
          }
        },
        {
          "output_type": "stream",
          "text": [
            "\n"
          ],
          "name": "stdout"
        }
      ]
    },
    {
      "cell_type": "code",
      "metadata": {
        "id": "_2aVFGnKTYFK",
        "colab": {
          "base_uri": "https://localhost:8080/",
          "height": 414
        },
        "outputId": "b36bbf77-b95a-482c-bbbf-d17bdcec17c2"
      },
      "source": [
        "test_df"
      ],
      "execution_count": 28,
      "outputs": [
        {
          "output_type": "execute_result",
          "data": {
            "text/html": [
              "<div>\n",
              "<style scoped>\n",
              "    .dataframe tbody tr th:only-of-type {\n",
              "        vertical-align: middle;\n",
              "    }\n",
              "\n",
              "    .dataframe tbody tr th {\n",
              "        vertical-align: top;\n",
              "    }\n",
              "\n",
              "    .dataframe thead th {\n",
              "        text-align: right;\n",
              "    }\n",
              "</style>\n",
              "<table border=\"1\" class=\"dataframe\">\n",
              "  <thead>\n",
              "    <tr style=\"text-align: right;\">\n",
              "      <th></th>\n",
              "      <th>patientId</th>\n",
              "      <th>class</th>\n",
              "      <th>Target</th>\n",
              "      <th>x</th>\n",
              "      <th>y</th>\n",
              "      <th>width</th>\n",
              "      <th>height</th>\n",
              "    </tr>\n",
              "  </thead>\n",
              "  <tbody>\n",
              "    <tr>\n",
              "      <th>0</th>\n",
              "      <td>d9625316-b22c-44db-adbe-d99cfbb9e996</td>\n",
              "      <td>Lung Opacity</td>\n",
              "      <td>1.0</td>\n",
              "      <td>204.867813</td>\n",
              "      <td>15.874852</td>\n",
              "      <td>5.013824</td>\n",
              "      <td>6.879252</td>\n",
              "    </tr>\n",
              "    <tr>\n",
              "      <th>1</th>\n",
              "      <td>d9628d5b-2437-4df9-b66c-d35e30f3a40b</td>\n",
              "      <td>No Lung Opacity</td>\n",
              "      <td>0.0</td>\n",
              "      <td>0.000000</td>\n",
              "      <td>0.000000</td>\n",
              "      <td>0.000000</td>\n",
              "      <td>0.000000</td>\n",
              "    </tr>\n",
              "    <tr>\n",
              "      <th>2</th>\n",
              "      <td>d9645d7c-415f-420d-b82a-675062674282</td>\n",
              "      <td>Lung Opacity</td>\n",
              "      <td>1.0</td>\n",
              "      <td>192.538895</td>\n",
              "      <td>11.595178</td>\n",
              "      <td>8.701050</td>\n",
              "      <td>10.203073</td>\n",
              "    </tr>\n",
              "    <tr>\n",
              "      <th>3</th>\n",
              "      <td>d967c678-30f0-48b4-9563-167e746e972d</td>\n",
              "      <td>Lung Opacity</td>\n",
              "      <td>1.0</td>\n",
              "      <td>185.774841</td>\n",
              "      <td>11.105405</td>\n",
              "      <td>21.205902</td>\n",
              "      <td>16.389465</td>\n",
              "    </tr>\n",
              "    <tr>\n",
              "      <th>4</th>\n",
              "      <td>d96a84b3-a770-4270-9089-572f2782967d</td>\n",
              "      <td>No Lung Opacity</td>\n",
              "      <td>0.0</td>\n",
              "      <td>0.000000</td>\n",
              "      <td>0.000000</td>\n",
              "      <td>0.000000</td>\n",
              "      <td>0.000000</td>\n",
              "    </tr>\n",
              "    <tr>\n",
              "      <th>...</th>\n",
              "      <td>...</td>\n",
              "      <td>...</td>\n",
              "      <td>...</td>\n",
              "      <td>...</td>\n",
              "      <td>...</td>\n",
              "      <td>...</td>\n",
              "      <td>...</td>\n",
              "    </tr>\n",
              "    <tr>\n",
              "      <th>7441</th>\n",
              "      <td>c14d9ceb-019f-45f6-9299-281b58de57df</td>\n",
              "      <td>Lung Opacity</td>\n",
              "      <td>1.0</td>\n",
              "      <td>16.332800</td>\n",
              "      <td>12.934175</td>\n",
              "      <td>5.509039</td>\n",
              "      <td>6.987973</td>\n",
              "    </tr>\n",
              "    <tr>\n",
              "      <th>7442</th>\n",
              "      <td>c18d1138-ba74-4af5-af21-bdd4d2c96bb5</td>\n",
              "      <td>Lung Opacity</td>\n",
              "      <td>1.0</td>\n",
              "      <td>176.430466</td>\n",
              "      <td>6.771493</td>\n",
              "      <td>7.628372</td>\n",
              "      <td>8.649753</td>\n",
              "    </tr>\n",
              "    <tr>\n",
              "      <th>7443</th>\n",
              "      <td>c19b8a3b-ab4e-4a73-8e13-ec0a84b6b6c7</td>\n",
              "      <td>Lung Opacity</td>\n",
              "      <td>1.0</td>\n",
              "      <td>126.580307</td>\n",
              "      <td>0.000000</td>\n",
              "      <td>97.419693</td>\n",
              "      <td>62.261410</td>\n",
              "    </tr>\n",
              "    <tr>\n",
              "      <th>7444</th>\n",
              "      <td>c1ca4417-83a6-43a7-a9bf-7d9587e7f14f</td>\n",
              "      <td>Lung Opacity</td>\n",
              "      <td>1.0</td>\n",
              "      <td>0.000000</td>\n",
              "      <td>0.000000</td>\n",
              "      <td>205.353683</td>\n",
              "      <td>34.984791</td>\n",
              "    </tr>\n",
              "    <tr>\n",
              "      <th>7445</th>\n",
              "      <td>c1e73a4e-7afe-4ec5-8af6-ce8315d7a2f2</td>\n",
              "      <td>Lung Opacity</td>\n",
              "      <td>1.0</td>\n",
              "      <td>198.360580</td>\n",
              "      <td>33.221992</td>\n",
              "      <td>9.520279</td>\n",
              "      <td>10.419331</td>\n",
              "    </tr>\n",
              "  </tbody>\n",
              "</table>\n",
              "<p>7446 rows × 7 columns</p>\n",
              "</div>"
            ],
            "text/plain": [
              "                                 patientId  ...     height\n",
              "0     d9625316-b22c-44db-adbe-d99cfbb9e996  ...   6.879252\n",
              "1     d9628d5b-2437-4df9-b66c-d35e30f3a40b  ...   0.000000\n",
              "2     d9645d7c-415f-420d-b82a-675062674282  ...  10.203073\n",
              "3     d967c678-30f0-48b4-9563-167e746e972d  ...  16.389465\n",
              "4     d96a84b3-a770-4270-9089-572f2782967d  ...   0.000000\n",
              "...                                    ...  ...        ...\n",
              "7441  c14d9ceb-019f-45f6-9299-281b58de57df  ...   6.987973\n",
              "7442  c18d1138-ba74-4af5-af21-bdd4d2c96bb5  ...   8.649753\n",
              "7443  c19b8a3b-ab4e-4a73-8e13-ec0a84b6b6c7  ...  62.261410\n",
              "7444  c1ca4417-83a6-43a7-a9bf-7d9587e7f14f  ...  34.984791\n",
              "7445  c1e73a4e-7afe-4ec5-8af6-ce8315d7a2f2  ...  10.419331\n",
              "\n",
              "[7446 rows x 7 columns]"
            ]
          },
          "metadata": {
            "tags": []
          },
          "execution_count": 28
        }
      ]
    },
    {
      "cell_type": "code",
      "metadata": {
        "id": "SSOsOvooSYYe"
      },
      "source": [
        "test_df.to_csv(SavePath+ '/result.csv', encoding='utf-8')"
      ],
      "execution_count": 29,
      "outputs": []
    }
  ]
}